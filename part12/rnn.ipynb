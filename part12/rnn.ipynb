{
 "cells": [
  {
   "cell_type": "markdown",
   "id": "f7d037d8",
   "metadata": {},
   "source": [
    "# SECTION 1: load db"
   ]
  },
  {
   "cell_type": "code",
   "execution_count": 1,
   "id": "c49e6087",
   "metadata": {},
   "outputs": [],
   "source": [
    "with open('../part11/labels.txt') as labels:\n",
    "    target_dataset = [1 if lbl[0] == 'p' else 0 for lbl in labels.readlines()]\n",
    "\n",
    "with open('../part11/reviews.txt') as reviews:\n",
    "    text = [line.upper() for line in reviews.readlines()]\n",
    "\n",
    "vocab = set(' '.join(text).split(' '))  # 74075\n",
    "vocab.remove('')\n",
    "\n",
    "word2index = {word: i for i, word in enumerate(vocab)}  # 74075\n",
    "\n",
    "input_dataset = [[word2index[word] for word in review.split(' ') if word != ''] for review in text]"
   ]
  },
  {
   "cell_type": "code",
   "execution_count": 2,
   "id": "55e161fc",
   "metadata": {},
   "outputs": [
    {
     "name": "stdout",
     "output_type": "stream",
     "text": [
      "Length dataset samples 25000\n",
      "Length positive samples 12500\n",
      "Length negative samples 12500\n"
     ]
    }
   ],
   "source": [
    "from sklearn.utils import shuffle\n",
    "input_dataset_shuffled, target_dataset_shuffled = shuffle(input_dataset, target_dataset)\n",
    "print('Length dataset samples {}'.format(len(input_dataset_shuffled)))\n",
    "print('Length positive samples {}'.format(len([t for t in target_dataset_shuffled if t == 1])))\n",
    "print('Length negative samples {}'.format(len([t for t in target_dataset_shuffled if t == 0])))"
   ]
  },
  {
   "cell_type": "markdown",
   "id": "5fc251bf",
   "metadata": {},
   "source": [
    "# SECTION 2: fit & predict"
   ]
  },
  {
   "cell_type": "code",
   "execution_count": 3,
   "id": "3f362746",
   "metadata": {},
   "outputs": [],
   "source": [
    "import numpy as np\n",
    "np.random.seed(1)"
   ]
  },
  {
   "cell_type": "code",
   "execution_count": 4,
   "id": "5f280aad",
   "metadata": {},
   "outputs": [],
   "source": [
    "def sigmoid(x):\n",
    "    return 1 / (1 + np.exp(-x))"
   ]
  },
  {
   "cell_type": "code",
   "execution_count": 5,
   "id": "69c61e59",
   "metadata": {},
   "outputs": [],
   "source": [
    "ALPHA = 0.01\n",
    "ITERATIONS = 5\n",
    "HIDDEN_SIZE = 100"
   ]
  },
  {
   "cell_type": "code",
   "execution_count": 6,
   "id": "3a9cbf82",
   "metadata": {},
   "outputs": [],
   "source": [
    "weights_0_1 = 0.2 * np.random.random((len(vocab), HIDDEN_SIZE)) - 0.1\n",
    "weights_1_2 = 0.2 * np.random.random((HIDDEN_SIZE, 1)) - 0.1"
   ]
  },
  {
   "cell_type": "code",
   "execution_count": 7,
   "id": "765d341a",
   "metadata": {},
   "outputs": [],
   "source": [
    "def fit(x_train, y_train):\n",
    "    correct = 0\n",
    "    total = 0\n",
    "    \n",
    "    global weights_0_1, weights_1_2\n",
    "    \n",
    "    for iter in range(ITERATIONS):\n",
    "        for i in range(len(x_train)):\n",
    "            x = x_train[i]\n",
    "            y = y_train[i]\n",
    "            \n",
    "            layer_1 = sigmoid(np.sum(weights_0_1[x], axis=0))\n",
    "            layer_2 = sigmoid(np.dot(layer_1, weights_1_2))\n",
    "            layer_2_delta = layer_2 - y\n",
    "            layer_1_delta = layer_2_delta.dot(weights_1_2.T)\n",
    "            weights_0_1[x] -= layer_1_delta * ALPHA\n",
    "            weights_1_2 -= np.outer(layer_1,layer_2_delta) * ALPHA\n",
    "            \n",
    "            if(np.abs(layer_2_delta) < 0.5):\n",
    "                correct += 1\n",
    "            total += 1\n",
    "        \n",
    "        print(\"iter: {}, train: {}\".format(iter, correct/total))"
   ]
  },
  {
   "cell_type": "code",
   "execution_count": 8,
   "id": "342aa835",
   "metadata": {},
   "outputs": [
    {
     "name": "stdout",
     "output_type": "stream",
     "text": [
      "iter: 0, train: 0.82025\n",
      "iter: 1, train: 0.8485625\n",
      "iter: 2, train: 0.8620833333333333\n",
      "iter: 3, train: 0.8705833333333334\n",
      "iter: 4, train: 0.8765166666666667\n"
     ]
    }
   ],
   "source": [
    "fit(input_dataset_shuffled[:-1000], target_dataset_shuffled[:-1000])"
   ]
  },
  {
   "cell_type": "code",
   "execution_count": 9,
   "id": "4b3ce165",
   "metadata": {},
   "outputs": [],
   "source": [
    "def predict(x_test, y_test):\n",
    "    correct = 0\n",
    "    total = 0\n",
    "    \n",
    "    global weights_0_1, weights_1_2\n",
    "    \n",
    "    for i in range(len(x_test)):\n",
    "        x = x_test[i]\n",
    "        y = y_test[i]\n",
    "\n",
    "        layer_1 = sigmoid(np.sum(weights_0_1[x], axis=0))\n",
    "        layer_2 = sigmoid(np.dot(layer_1, weights_1_2))\n",
    "\n",
    "        if(np.abs(layer_2 - y) < 0.5):\n",
    "            correct += 1\n",
    "        total += 1\n",
    "\n",
    "    print(\"test: {}\".format(correct/total))    "
   ]
  },
  {
   "cell_type": "code",
   "execution_count": 10,
   "id": "f18d412a",
   "metadata": {},
   "outputs": [
    {
     "name": "stdout",
     "output_type": "stream",
     "text": [
      "test: 0.866\n"
     ]
    }
   ],
   "source": [
    "predict(input_dataset_shuffled[-1000:], target_dataset_shuffled[-1000:])"
   ]
  },
  {
   "cell_type": "markdown",
   "id": "3ecea691",
   "metadata": {},
   "source": [
    "# SECTION 3: similar reviews"
   ]
  },
  {
   "cell_type": "code",
   "execution_count": 11,
   "id": "3b68d38d",
   "metadata": {},
   "outputs": [],
   "source": [
    "from collections import Counter"
   ]
  },
  {
   "cell_type": "code",
   "execution_count": 12,
   "id": "5e8e9643",
   "metadata": {},
   "outputs": [
    {
     "data": {
      "text/plain": [
       "94"
      ]
     },
     "execution_count": 12,
     "metadata": {},
     "output_type": "execute_result"
    }
   ],
   "source": [
    "tokens = list(map(set, [line.split(' ') for line in text]))\n",
    "len(tokens[0])"
   ]
  },
  {
   "cell_type": "code",
   "execution_count": 13,
   "id": "d1d2ed35",
   "metadata": {},
   "outputs": [
    {
     "data": {
      "text/plain": [
       "168"
      ]
     },
     "execution_count": 13,
     "metadata": {},
     "output_type": "execute_result"
    }
   ],
   "source": [
    "len(input_dataset[0])"
   ]
  },
  {
   "cell_type": "code",
   "execution_count": 14,
   "id": "452aa82b",
   "metadata": {},
   "outputs": [],
   "source": [
    "norms = np.sum(weights_0_1 * weights_0_1, axis=1)"
   ]
  },
  {
   "cell_type": "code",
   "execution_count": 15,
   "id": "3607cc8d",
   "metadata": {},
   "outputs": [
    {
     "data": {
      "text/plain": [
       "(74074,)"
      ]
     },
     "execution_count": 15,
     "metadata": {},
     "output_type": "execute_result"
    }
   ],
   "source": [
    "norms.shape"
   ]
  },
  {
   "cell_type": "code",
   "execution_count": 16,
   "id": "22e0c9f4",
   "metadata": {},
   "outputs": [],
   "source": [
    "norms.resize(norms.shape[0], 1)"
   ]
  },
  {
   "cell_type": "code",
   "execution_count": 17,
   "id": "62c932d0",
   "metadata": {},
   "outputs": [],
   "source": [
    "normed_weights = weights_0_1 * norms"
   ]
  },
  {
   "cell_type": "code",
   "execution_count": 18,
   "id": "8c59c1ca",
   "metadata": {},
   "outputs": [],
   "source": [
    "def make_sent_vect(words):\n",
    "    words = [w.upper() for w in words]\n",
    "    indices = [word2index[word] for word in words if word in word2index]\n",
    "    return np.mean(normed_weights[indices], axis=0)"
   ]
  },
  {
   "cell_type": "code",
   "execution_count": 19,
   "id": "4f3c044c",
   "metadata": {},
   "outputs": [],
   "source": [
    "reviews2vectors = np.array([make_sent_vect(review) for review in tokens])"
   ]
  },
  {
   "cell_type": "code",
   "execution_count": 20,
   "id": "08b1296e",
   "metadata": {},
   "outputs": [],
   "source": [
    "def most_similar_reviews(review):\n",
    "    v = make_sent_vect(review)\n",
    "    scores = Counter()\n",
    "    for i, val in enumerate(reviews2vectors.dot(v)):\n",
    "        scores[i] = val\n",
    "    most_similar = list()\n",
    "    for idx, score in scores.most_common(3):\n",
    "        most_similar.append(text[idx][:100])\n",
    "    return most_similar"
   ]
  },
  {
   "cell_type": "code",
   "execution_count": 21,
   "id": "7f9ed350",
   "metadata": {},
   "outputs": [
    {
     "data": {
      "text/plain": [
       "['THIS IS WITHOUT A DOUBT THE WORST MOVIE I HAVE EVER SEEN . IT IS NOT FUNNY . IT IS NOT INTERESTING A',\n",
       " 'THIS MOVIE IS SO BAD  IT CAN ONLY BE COMPARED TO THE ALL  TIME WORST  COMEDY   POLICE ACADEMY  . NO ',\n",
       " 'I  VE SEEN ABOUT    MOVIES RELEASED BETWEEN         AND THE INFORMER IS THE WORST MAJOR RELEASE I  V']"
      ]
     },
     "execution_count": 21,
     "metadata": {},
     "output_type": "execute_result"
    }
   ],
   "source": [
    "most_similar_reviews(['boring','awful'])"
   ]
  },
  {
   "cell_type": "code",
   "execution_count": 22,
   "id": "8fdacf78",
   "metadata": {},
   "outputs": [
    {
     "data": {
      "text/plain": [
       "['ADRIAN PASDAR IS EXCELLENT IS THIS FILM . HE MAKES A FASCINATING WOMAN .  \\n',\n",
       " 'EXCELLENT EPISODE MOVIE ALA PULP FICTION .  DAYS   SUICIDES . IT DOESNT GET MORE DEPRESSING THAN THI',\n",
       " 'BRILLIANT EXECUTION IN DISPLAYING ONCE AND FOR ALL  THIS TIME IN THE VENUE OF POLITICS  OF HOW  GOOD']"
      ]
     },
     "execution_count": 22,
     "metadata": {},
     "output_type": "execute_result"
    }
   ],
   "source": [
    "most_similar_reviews(['great','amazing'])"
   ]
  },
  {
   "cell_type": "markdown",
   "id": "de20af63",
   "metadata": {},
   "source": [
    "# SECTION 4: identity"
   ]
  },
  {
   "cell_type": "code",
   "execution_count": 23,
   "id": "d8fba7f6",
   "metadata": {},
   "outputs": [],
   "source": [
    "a = np.array([1, 2, 3])\n",
    "b = np.array([0.1, 0.2, 0.3])\n",
    "c = np.array([-1, -0.5, 0])\n",
    "d = np.array([0, 0, 0])\n",
    "identity = np.eye(3)"
   ]
  },
  {
   "cell_type": "code",
   "execution_count": 24,
   "id": "02140f79",
   "metadata": {},
   "outputs": [
    {
     "name": "stdout",
     "output_type": "stream",
     "text": [
      "[[1. 0. 0.]\n",
      " [0. 1. 0.]\n",
      " [0. 0. 1.]]\n"
     ]
    }
   ],
   "source": [
    "print(identity)"
   ]
  },
  {
   "cell_type": "code",
   "execution_count": 25,
   "id": "c78bdeb0",
   "metadata": {},
   "outputs": [
    {
     "name": "stdout",
     "output_type": "stream",
     "text": [
      "[1. 2. 3.]\n",
      "[0.1 0.2 0.3]\n",
      "[-1.  -0.5  0. ]\n",
      "[0. 0. 0.]\n"
     ]
    }
   ],
   "source": [
    "print(a.dot(identity))\n",
    "print(b.dot(identity))\n",
    "print(c.dot(identity))\n",
    "print(d.dot(identity))"
   ]
  },
  {
   "cell_type": "markdown",
   "id": "a1ec2e30",
   "metadata": {},
   "source": [
    "# SECTION 5: forward prop"
   ]
  },
  {
   "cell_type": "code",
   "execution_count": 27,
   "id": "1634d72e",
   "metadata": {},
   "outputs": [],
   "source": [
    "def softmax(x_):\n",
    "    x = np.atleast_2d(x_)\n",
    "    temp = np.exp(x)\n",
    "    return temp / np.sum(temp, axis=1, keepdims=True)"
   ]
  },
  {
   "cell_type": "code",
   "execution_count": 31,
   "id": "961fdda6",
   "metadata": {},
   "outputs": [],
   "source": [
    "word_vects = {}\n",
    "word_vects['yankees'] = np.array([[0., 0., 0.]])\n",
    "word_vects['bears'] = np.array([[0., 0., 0.]])\n",
    "word_vects['braves'] = np.array([[0., 0., 0.]])\n",
    "word_vects['red'] = np.array([[0., 0., 0.]])\n",
    "word_vects['socks'] = np.array([[0., 0., 0.]])\n",
    "word_vects['lose'] = np.array([[0., 0., 0.]])\n",
    "word_vects['defeat'] = np.array([[0., 0., 0.]])\n",
    "word_vects['beat'] = np.array([[0., 0., 0.]])\n",
    "word_vects['tie'] = np.array([[0., 0., 0.]])\n",
    "\n",
    "sent2output = np.random.rand(3, len(word_vects))\n",
    "identity = np.eye(3)\n",
    "\n",
    "layer_0 = word_vects['red']\n",
    "layer_1 = layer_0.dot(identity) + word_vects['socks']\n",
    "layer_2 = layer_1.dot(identity) + word_vects['defeat']\n",
    "\n",
    "pred = softmax(np.dot(layer_2, sent2output))"
   ]
  },
  {
   "cell_type": "markdown",
   "id": "f040aae4",
   "metadata": {},
   "source": [
    "# SECTION 6: back prop"
   ]
  },
  {
   "cell_type": "code",
   "execution_count": 37,
   "id": "79afe6ac",
   "metadata": {},
   "outputs": [],
   "source": [
    "y = np.array([1, 0, 0, 0, 0, 0, 0, 0, 0])\n",
    "pred_delta = pred - y\n",
    "layer_2_delta = pred_delta.dot(sent2output.T)\n",
    "defeat_delta = layer_2_delta * 1\n",
    "layer_1_delta = layer_2_delta.dot(identity.T)\n",
    "sox_delta = layer_1_delta * 1\n",
    "layer_0_delta = layer_1_delta.dot(identity.T)\n",
    "alpha = 0.01\n",
    "word_vects['red'] -= layer_0_delta * alpha\n",
    "word_vects['socks'] -= sox_delta * alpha\n",
    "word_vects['defeat'] -= defeat_delta * alpha\n",
    "identity -= np.outer(layer_0, layer_1_delta) * alpha\n",
    "identity -= np.outer(layer_1, layer_2_delta) * alpha\n",
    "sent2output -= np.outer(layer_2, pred_delta) * alpha"
   ]
  },
  {
   "cell_type": "markdown",
   "id": "1676e41e",
   "metadata": {},
   "source": [
    "# SECTION 7: babi"
   ]
  },
  {
   "cell_type": "code",
   "execution_count": 38,
   "id": "c7146498",
   "metadata": {},
   "outputs": [
    {
     "name": "stdout",
     "output_type": "stream",
     "text": [
      "--2021-09-21 04:20:37--  http://www.thespermwhale.com/jaseweston/babi/tasks_1-20_v1-1.tar.gz\n",
      "Распознаётся www.thespermwhale.com (www.thespermwhale.com)… 50.31.160.191\n",
      "Подключение к www.thespermwhale.com (www.thespermwhale.com)|50.31.160.191|:80... соединение установлено.\n",
      "HTTP-запрос отправлен. Ожидание ответа… 200 OK\n",
      "Длина: 1282454 (1,2M) [application/x-gzip]\n",
      "Сохранение в: «tasks_1-20_v1-1.tar.gz»\n",
      "\n",
      "tasks_1-20_v1-1.tar 100%[===================>]   1,22M  1,12MB/s    за 1,1s    \n",
      "\n",
      "2021-09-21 04:20:39 (1,12 MB/s) - «tasks_1-20_v1-1.tar.gz» сохранён [1282454/1282454]\n",
      "\n",
      "tar: Игнорируется неизвестное ключевое слово расширенного заголовка «LIBARCHIVE.creationtime»\n",
      "tar: Игнорируется неизвестное ключевое слово расширенного заголовка «SCHILY.dev»\n",
      "tar: Игнорируется неизвестное ключевое слово расширенного заголовка «SCHILY.ino»\n",
      "tar: Игнорируется неизвестное ключевое слово расширенного заголовка «SCHILY.nlink»\n",
      "tasksv11/\n",
      "tar: Игнорируется неизвестное ключевое слово расширенного заголовка «SCHILY.dev»\n",
      "tar: Игнорируется неизвестное ключевое слово расширенного заголовка «SCHILY.ino»\n",
      "tar: Игнорируется неизвестное ключевое слово расширенного заголовка «SCHILY.nlink»\n",
      "tasksv11/en/\n",
      "tar: Игнорируется неизвестное ключевое слово расширенного заголовка «SCHILY.dev»\n",
      "tar: Игнорируется неизвестное ключевое слово расширенного заголовка «SCHILY.ino»\n",
      "tar: Игнорируется неизвестное ключевое слово расширенного заголовка «SCHILY.nlink»\n",
      "tasksv11/._LICENSE\n",
      "tar: Игнорируется неизвестное ключевое слово расширенного заголовка «LIBARCHIVE.creationtime»\n",
      "tar: Игнорируется неизвестное ключевое слово расширенного заголовка «SCHILY.dev»\n",
      "tar: Игнорируется неизвестное ключевое слово расширенного заголовка «SCHILY.ino»\n",
      "tar: Игнорируется неизвестное ключевое слово расширенного заголовка «SCHILY.nlink»\n",
      "tasksv11/LICENSE\n",
      "tar: Игнорируется неизвестное ключевое слово расширенного заголовка «SCHILY.dev»\n",
      "tar: Игнорируется неизвестное ключевое слово расширенного заголовка «SCHILY.ino»\n",
      "tar: Игнорируется неизвестное ключевое слово расширенного заголовка «SCHILY.nlink»\n",
      "tasksv11/README\n",
      "tar: Игнорируется неизвестное ключевое слово расширенного заголовка «SCHILY.dev»\n",
      "tar: Игнорируется неизвестное ключевое слово расширенного заголовка «SCHILY.ino»\n",
      "tar: Игнорируется неизвестное ключевое слово расширенного заголовка «SCHILY.nlink»\n",
      "tasksv11/shuffled/\n",
      "tar: Игнорируется неизвестное ключевое слово расширенного заголовка «SCHILY.dev»\n",
      "tar: Игнорируется неизвестное ключевое слово расширенного заголовка «SCHILY.ino»\n",
      "tar: Игнорируется неизвестное ключевое слово расширенного заголовка «SCHILY.nlink»\n",
      "tasksv11/shuffled/qa10_indefinite-knowledge_test.txt\n",
      "tar: Игнорируется неизвестное ключевое слово расширенного заголовка «SCHILY.dev»\n",
      "tar: Игнорируется неизвестное ключевое слово расширенного заголовка «SCHILY.ino»\n",
      "tar: Игнорируется неизвестное ключевое слово расширенного заголовка «SCHILY.nlink»\n",
      "tasksv11/shuffled/qa10_indefinite-knowledge_train.txt\n",
      "tar: Игнорируется неизвестное ключевое слово расширенного заголовка «SCHILY.dev»\n",
      "tar: Игнорируется неизвестное ключевое слово расширенного заголовка «SCHILY.ino»\n",
      "tar: Игнорируется неизвестное ключевое слово расширенного заголовка «SCHILY.nlink»\n",
      "tasksv11/shuffled/qa11_basic-coreference_test.txt\n",
      "tar: Игнорируется неизвестное ключевое слово расширенного заголовка «SCHILY.dev»\n",
      "tar: Игнорируется неизвестное ключевое слово расширенного заголовка «SCHILY.ino»\n",
      "tar: Игнорируется неизвестное ключевое слово расширенного заголовка «SCHILY.nlink»\n",
      "tasksv11/shuffled/qa11_basic-coreference_train.txt\n",
      "tar: Игнорируется неизвестное ключевое слово расширенного заголовка «SCHILY.dev»\n",
      "tar: Игнорируется неизвестное ключевое слово расширенного заголовка «SCHILY.ino»\n",
      "tar: Игнорируется неизвестное ключевое слово расширенного заголовка «SCHILY.nlink»\n",
      "tasksv11/shuffled/qa12_conjunction_test.txt\n",
      "tar: Игнорируется неизвестное ключевое слово расширенного заголовка «SCHILY.dev»\n",
      "tar: Игнорируется неизвестное ключевое слово расширенного заголовка «SCHILY.ino»\n",
      "tar: Игнорируется неизвестное ключевое слово расширенного заголовка «SCHILY.nlink»\n",
      "tasksv11/shuffled/qa12_conjunction_train.txt\n",
      "tar: Игнорируется неизвестное ключевое слово расширенного заголовка «SCHILY.dev»\n",
      "tar: Игнорируется неизвестное ключевое слово расширенного заголовка «SCHILY.ino»\n",
      "tar: Игнорируется неизвестное ключевое слово расширенного заголовка «SCHILY.nlink»\n",
      "tasksv11/shuffled/qa13_compound-coreference_test.txt\n",
      "tar: Игнорируется неизвестное ключевое слово расширенного заголовка «SCHILY.dev»\n",
      "tar: Игнорируется неизвестное ключевое слово расширенного заголовка «SCHILY.ino»\n",
      "tar: Игнорируется неизвестное ключевое слово расширенного заголовка «SCHILY.nlink»\n",
      "tasksv11/shuffled/qa13_compound-coreference_train.txt\n",
      "tar: Игнорируется неизвестное ключевое слово расширенного заголовка «SCHILY.dev»\n",
      "tar: Игнорируется неизвестное ключевое слово расширенного заголовка «SCHILY.ino»\n",
      "tar: Игнорируется неизвестное ключевое слово расширенного заголовка «SCHILY.nlink»\n",
      "tasksv11/shuffled/qa14_time-reasoning_test.txt\n",
      "tar: Игнорируется неизвестное ключевое слово расширенного заголовка «SCHILY.dev»\n",
      "tar: Игнорируется неизвестное ключевое слово расширенного заголовка «SCHILY.ino»\n",
      "tar: Игнорируется неизвестное ключевое слово расширенного заголовка «SCHILY.nlink»\n",
      "tasksv11/shuffled/qa14_time-reasoning_train.txt\n",
      "tar: Игнорируется неизвестное ключевое слово расширенного заголовка «SCHILY.dev»\n",
      "tar: Игнорируется неизвестное ключевое слово расширенного заголовка «SCHILY.ino»\n",
      "tar: Игнорируется неизвестное ключевое слово расширенного заголовка «SCHILY.nlink»\n",
      "tasksv11/shuffled/qa15_basic-deduction_test.txt\n",
      "tar: Игнорируется неизвестное ключевое слово расширенного заголовка «SCHILY.dev»\n",
      "tar: Игнорируется неизвестное ключевое слово расширенного заголовка «SCHILY.ino»\n",
      "tar: Игнорируется неизвестное ключевое слово расширенного заголовка «SCHILY.nlink»\n",
      "tasksv11/shuffled/qa15_basic-deduction_train.txt\n",
      "tar: Игнорируется неизвестное ключевое слово расширенного заголовка «SCHILY.dev»\n",
      "tar: Игнорируется неизвестное ключевое слово расширенного заголовка «SCHILY.ino»\n",
      "tar: Игнорируется неизвестное ключевое слово расширенного заголовка «SCHILY.nlink»\n",
      "tasksv11/shuffled/qa16_basic-induction_test.txt\n",
      "tar: Игнорируется неизвестное ключевое слово расширенного заголовка «SCHILY.dev»\n",
      "tar: Игнорируется неизвестное ключевое слово расширенного заголовка «SCHILY.ino»\n",
      "tar: Игнорируется неизвестное ключевое слово расширенного заголовка «SCHILY.nlink»\n",
      "tasksv11/shuffled/qa16_basic-induction_train.txt\n",
      "tar: Игнорируется неизвестное ключевое слово расширенного заголовка «SCHILY.dev»\n",
      "tar: Игнорируется неизвестное ключевое слово расширенного заголовка «SCHILY.ino»\n",
      "tar: Игнорируется неизвестное ключевое слово расширенного заголовка «SCHILY.nlink»\n",
      "tasksv11/shuffled/qa17_positional-reasoning_test.txt\n",
      "tar: Игнорируется неизвестное ключевое слово расширенного заголовка «SCHILY.dev»\n",
      "tar: Игнорируется неизвестное ключевое слово расширенного заголовка «SCHILY.ino»\n",
      "tar: Игнорируется неизвестное ключевое слово расширенного заголовка «SCHILY.nlink»\n",
      "tasksv11/shuffled/qa17_positional-reasoning_train.txt\n",
      "tar: Игнорируется неизвестное ключевое слово расширенного заголовка «SCHILY.dev»\n",
      "tar: Игнорируется неизвестное ключевое слово расширенного заголовка «SCHILY.ino»\n",
      "tar: Игнорируется неизвестное ключевое слово расширенного заголовка «SCHILY.nlink»\n",
      "tasksv11/shuffled/qa18_size-reasoning_test.txt\n",
      "tar: Игнорируется неизвестное ключевое слово расширенного заголовка «SCHILY.dev»\n",
      "tar: Игнорируется неизвестное ключевое слово расширенного заголовка «SCHILY.ino»\n",
      "tar: Игнорируется неизвестное ключевое слово расширенного заголовка «SCHILY.nlink»\n",
      "tasksv11/shuffled/qa18_size-reasoning_train.txt\n",
      "tar: Игнорируется неизвестное ключевое слово расширенного заголовка «SCHILY.dev»\n",
      "tar: Игнорируется неизвестное ключевое слово расширенного заголовка «SCHILY.ino»\n",
      "tar: Игнорируется неизвестное ключевое слово расширенного заголовка «SCHILY.nlink»\n",
      "tasksv11/shuffled/qa19_path-finding_test.txt\n",
      "tar: Игнорируется неизвестное ключевое слово расширенного заголовка «SCHILY.dev»\n",
      "tar: Игнорируется неизвестное ключевое слово расширенного заголовка «SCHILY.ino»\n",
      "tar: Игнорируется неизвестное ключевое слово расширенного заголовка «SCHILY.nlink»\n",
      "tasksv11/shuffled/qa19_path-finding_train.txt\n",
      "tar: Игнорируется неизвестное ключевое слово расширенного заголовка «SCHILY.dev»\n",
      "tar: Игнорируется неизвестное ключевое слово расширенного заголовка «SCHILY.ino»\n",
      "tar: Игнорируется неизвестное ключевое слово расширенного заголовка «SCHILY.nlink»\n",
      "tasksv11/shuffled/qa1_single-supporting-fact_test.txt\n",
      "tar: Игнорируется неизвестное ключевое слово расширенного заголовка «SCHILY.dev»\n",
      "tar: Игнорируется неизвестное ключевое слово расширенного заголовка «SCHILY.ino»\n",
      "tar: Игнорируется неизвестное ключевое слово расширенного заголовка «SCHILY.nlink»\n",
      "tasksv11/shuffled/qa1_single-supporting-fact_train.txt\n",
      "tar: Игнорируется неизвестное ключевое слово расширенного заголовка «SCHILY.dev»\n",
      "tar: Игнорируется неизвестное ключевое слово расширенного заголовка «SCHILY.ino»\n",
      "tar: Игнорируется неизвестное ключевое слово расширенного заголовка «SCHILY.nlink»\n",
      "tasksv11/shuffled/qa20_agents-motivations_test.txt\n",
      "tar: Игнорируется неизвестное ключевое слово расширенного заголовка «SCHILY.dev»\n",
      "tar: Игнорируется неизвестное ключевое слово расширенного заголовка «SCHILY.ino»\n",
      "tar: Игнорируется неизвестное ключевое слово расширенного заголовка «SCHILY.nlink»\n",
      "tasksv11/shuffled/qa20_agents-motivations_train.txt\n",
      "tar: Игнорируется неизвестное ключевое слово расширенного заголовка «SCHILY.dev»\n",
      "tar: Игнорируется неизвестное ключевое слово расширенного заголовка «SCHILY.ino»\n",
      "tar: Игнорируется неизвестное ключевое слово расширенного заголовка «SCHILY.nlink»\n",
      "tasksv11/shuffled/qa2_two-supporting-facts_test.txt\n",
      "tar: Игнорируется неизвестное ключевое слово расширенного заголовка «SCHILY.dev»\n",
      "tar: Игнорируется неизвестное ключевое слово расширенного заголовка «SCHILY.ino»\n",
      "tar: Игнорируется неизвестное ключевое слово расширенного заголовка «SCHILY.nlink»\n",
      "tasksv11/shuffled/qa2_two-supporting-facts_train.txt\n",
      "tar: Игнорируется неизвестное ключевое слово расширенного заголовка «SCHILY.dev»\n",
      "tar: Игнорируется неизвестное ключевое слово расширенного заголовка «SCHILY.ino»\n",
      "tar: Игнорируется неизвестное ключевое слово расширенного заголовка «SCHILY.nlink»\n",
      "tasksv11/shuffled/qa3_three-supporting-facts_test.txt\n",
      "tar: Игнорируется неизвестное ключевое слово расширенного заголовка «SCHILY.dev»\n",
      "tar: Игнорируется неизвестное ключевое слово расширенного заголовка «SCHILY.ino»\n",
      "tar: Игнорируется неизвестное ключевое слово расширенного заголовка «SCHILY.nlink»\n",
      "tasksv11/shuffled/qa3_three-supporting-facts_train.txt\n",
      "tar: Игнорируется неизвестное ключевое слово расширенного заголовка «SCHILY.dev»\n",
      "tar: Игнорируется неизвестное ключевое слово расширенного заголовка «SCHILY.ino»\n",
      "tar: Игнорируется неизвестное ключевое слово расширенного заголовка «SCHILY.nlink»\n",
      "tasksv11/shuffled/qa4_two-arg-relations_test.txt\n",
      "tar: Игнорируется неизвестное ключевое слово расширенного заголовка «SCHILY.dev»\n",
      "tar: Игнорируется неизвестное ключевое слово расширенного заголовка «SCHILY.ino»\n",
      "tar: Игнорируется неизвестное ключевое слово расширенного заголовка «SCHILY.nlink»\n",
      "tasksv11/shuffled/qa4_two-arg-relations_train.txt\n",
      "tar: Игнорируется неизвестное ключевое слово расширенного заголовка «SCHILY.dev»\n",
      "tar: Игнорируется неизвестное ключевое слово расширенного заголовка «SCHILY.ino»\n",
      "tar: Игнорируется неизвестное ключевое слово расширенного заголовка «SCHILY.nlink»\n",
      "tasksv11/shuffled/qa5_three-arg-relations_test.txt\n",
      "tar: Игнорируется неизвестное ключевое слово расширенного заголовка «SCHILY.dev»\n",
      "tar: Игнорируется неизвестное ключевое слово расширенного заголовка «SCHILY.ino»\n",
      "tar: Игнорируется неизвестное ключевое слово расширенного заголовка «SCHILY.nlink»\n",
      "tasksv11/shuffled/qa5_three-arg-relations_train.txt\n",
      "tar: Игнорируется неизвестное ключевое слово расширенного заголовка «SCHILY.dev»\n",
      "tar: Игнорируется неизвестное ключевое слово расширенного заголовка «SCHILY.ino»\n",
      "tar: Игнорируется неизвестное ключевое слово расширенного заголовка «SCHILY.nlink»\n",
      "tasksv11/shuffled/qa6_yes-no-questions_test.txt\n",
      "tar: Игнорируется неизвестное ключевое слово расширенного заголовка «SCHILY.dev»\n",
      "tar: Игнорируется неизвестное ключевое слово расширенного заголовка «SCHILY.ino»\n",
      "tar: Игнорируется неизвестное ключевое слово расширенного заголовка «SCHILY.nlink»\n",
      "tasksv11/shuffled/qa6_yes-no-questions_train.txt\n",
      "tar: Игнорируется неизвестное ключевое слово расширенного заголовка «SCHILY.dev»\n",
      "tar: Игнорируется неизвестное ключевое слово расширенного заголовка «SCHILY.ino»\n",
      "tar: Игнорируется неизвестное ключевое слово расширенного заголовка «SCHILY.nlink»\n",
      "tasksv11/shuffled/qa7_counting_test.txt\n",
      "tar: Игнорируется неизвестное ключевое слово расширенного заголовка «SCHILY.dev»\n",
      "tar: Игнорируется неизвестное ключевое слово расширенного заголовка «SCHILY.ino»\n",
      "tar: Игнорируется неизвестное ключевое слово расширенного заголовка «SCHILY.nlink»\n",
      "tasksv11/shuffled/qa7_counting_train.txt\n",
      "tar: Игнорируется неизвестное ключевое слово расширенного заголовка «SCHILY.dev»\n",
      "tar: Игнорируется неизвестное ключевое слово расширенного заголовка «SCHILY.ino»\n",
      "tar: Игнорируется неизвестное ключевое слово расширенного заголовка «SCHILY.nlink»\n",
      "tasksv11/shuffled/qa8_lists-sets_test.txt\n",
      "tar: Игнорируется неизвестное ключевое слово расширенного заголовка «SCHILY.dev»\n",
      "tar: Игнорируется неизвестное ключевое слово расширенного заголовка «SCHILY.ino»\n",
      "tar: Игнорируется неизвестное ключевое слово расширенного заголовка «SCHILY.nlink»\n",
      "tasksv11/shuffled/qa8_lists-sets_train.txt\n",
      "tar: Игнорируется неизвестное ключевое слово расширенного заголовка «SCHILY.dev»\n",
      "tar: Игнорируется неизвестное ключевое слово расширенного заголовка «SCHILY.ino»\n",
      "tar: Игнорируется неизвестное ключевое слово расширенного заголовка «SCHILY.nlink»\n",
      "tasksv11/shuffled/qa9_simple-negation_test.txt\n",
      "tar: Игнорируется неизвестное ключевое слово расширенного заголовка «SCHILY.dev»\n",
      "tar: Игнорируется неизвестное ключевое слово расширенного заголовка «SCHILY.ino»\n",
      "tar: Игнорируется неизвестное ключевое слово расширенного заголовка «SCHILY.nlink»\n",
      "tasksv11/shuffled/qa9_simple-negation_train.txt\n",
      "tar: Игнорируется неизвестное ключевое слово расширенного заголовка «SCHILY.dev»\n",
      "tar: Игнорируется неизвестное ключевое слово расширенного заголовка «SCHILY.ino»\n",
      "tar: Игнорируется неизвестное ключевое слово расширенного заголовка «SCHILY.nlink»\n",
      "tasksv11/en/qa10_indefinite-knowledge_test.txt\n"
     ]
    },
    {
     "name": "stdout",
     "output_type": "stream",
     "text": [
      "tar: Игнорируется неизвестное ключевое слово расширенного заголовка «SCHILY.dev»\r\n",
      "tar: Игнорируется неизвестное ключевое слово расширенного заголовка «SCHILY.ino»\r\n",
      "tar: Игнорируется неизвестное ключевое слово расширенного заголовка «SCHILY.nlink»\r\n",
      "tasksv11/en/qa10_indefinite-knowledge_train.txt\r\n",
      "tar: Игнорируется неизвестное ключевое слово расширенного заголовка «SCHILY.dev»\r\n",
      "tar: Игнорируется неизвестное ключевое слово расширенного заголовка «SCHILY.ino»\r\n",
      "tar: Игнорируется неизвестное ключевое слово расширенного заголовка «SCHILY.nlink»\r\n",
      "tasksv11/en/qa11_basic-coreference_test.txt\r\n",
      "tar: Игнорируется неизвестное ключевое слово расширенного заголовка «SCHILY.dev»\r\n",
      "tar: Игнорируется неизвестное ключевое слово расширенного заголовка «SCHILY.ino»\r\n",
      "tar: Игнорируется неизвестное ключевое слово расширенного заголовка «SCHILY.nlink»\r\n",
      "tasksv11/en/qa11_basic-coreference_train.txt\r\n",
      "tar: Игнорируется неизвестное ключевое слово расширенного заголовка «SCHILY.dev»\r\n",
      "tar: Игнорируется неизвестное ключевое слово расширенного заголовка «SCHILY.ino»\r\n",
      "tar: Игнорируется неизвестное ключевое слово расширенного заголовка «SCHILY.nlink»\r\n",
      "tasksv11/en/qa12_conjunction_test.txt\r\n",
      "tar: Игнорируется неизвестное ключевое слово расширенного заголовка «SCHILY.dev»\r\n",
      "tar: Игнорируется неизвестное ключевое слово расширенного заголовка «SCHILY.ino»\r\n",
      "tar: Игнорируется неизвестное ключевое слово расширенного заголовка «SCHILY.nlink»\r\n",
      "tasksv11/en/qa12_conjunction_train.txt\r\n",
      "tar: Игнорируется неизвестное ключевое слово расширенного заголовка «SCHILY.dev»\r\n",
      "tar: Игнорируется неизвестное ключевое слово расширенного заголовка «SCHILY.ino»\r\n",
      "tar: Игнорируется неизвестное ключевое слово расширенного заголовка «SCHILY.nlink»\r\n",
      "tasksv11/en/qa13_compound-coreference_test.txt\r\n",
      "tar: Игнорируется неизвестное ключевое слово расширенного заголовка «SCHILY.dev»\r\n",
      "tar: Игнорируется неизвестное ключевое слово расширенного заголовка «SCHILY.ino»\r\n",
      "tar: Игнорируется неизвестное ключевое слово расширенного заголовка «SCHILY.nlink»\r\n",
      "tasksv11/en/qa13_compound-coreference_train.txt\r\n",
      "tar: Игнорируется неизвестное ключевое слово расширенного заголовка «SCHILY.dev»\r\n",
      "tar: Игнорируется неизвестное ключевое слово расширенного заголовка «SCHILY.ino»\r\n",
      "tar: Игнорируется неизвестное ключевое слово расширенного заголовка «SCHILY.nlink»\r\n",
      "tasksv11/en/qa14_time-reasoning_test.txt\r\n",
      "tar: Игнорируется неизвестное ключевое слово расширенного заголовка «SCHILY.dev»\r\n",
      "tar: Игнорируется неизвестное ключевое слово расширенного заголовка «SCHILY.ino»\r\n",
      "tar: Игнорируется неизвестное ключевое слово расширенного заголовка «SCHILY.nlink»\r\n",
      "tasksv11/en/qa14_time-reasoning_train.txt\r\n",
      "tar: Игнорируется неизвестное ключевое слово расширенного заголовка «SCHILY.dev»\r\n",
      "tar: Игнорируется неизвестное ключевое слово расширенного заголовка «SCHILY.ino»\r\n",
      "tar: Игнорируется неизвестное ключевое слово расширенного заголовка «SCHILY.nlink»\r\n",
      "tasksv11/en/qa15_basic-deduction_test.txt\r\n",
      "tar: Игнорируется неизвестное ключевое слово расширенного заголовка «SCHILY.dev»\r\n",
      "tar: Игнорируется неизвестное ключевое слово расширенного заголовка «SCHILY.ino»\r\n",
      "tar: Игнорируется неизвестное ключевое слово расширенного заголовка «SCHILY.nlink»\r\n",
      "tasksv11/en/qa15_basic-deduction_train.txt\r\n",
      "tar: Игнорируется неизвестное ключевое слово расширенного заголовка «SCHILY.dev»\r\n",
      "tar: Игнорируется неизвестное ключевое слово расширенного заголовка «SCHILY.ino»\r\n",
      "tar: Игнорируется неизвестное ключевое слово расширенного заголовка «SCHILY.nlink»\r\n",
      "tasksv11/en/qa16_basic-induction_test.txt\r\n",
      "tar: Игнорируется неизвестное ключевое слово расширенного заголовка «SCHILY.dev»\r\n",
      "tar: Игнорируется неизвестное ключевое слово расширенного заголовка «SCHILY.ino»\r\n",
      "tar: Игнорируется неизвестное ключевое слово расширенного заголовка «SCHILY.nlink»\r\n",
      "tasksv11/en/qa16_basic-induction_train.txt\r\n",
      "tar: Игнорируется неизвестное ключевое слово расширенного заголовка «SCHILY.dev»\r\n",
      "tar: Игнорируется неизвестное ключевое слово расширенного заголовка «SCHILY.ino»\r\n",
      "tar: Игнорируется неизвестное ключевое слово расширенного заголовка «SCHILY.nlink»\r\n",
      "tasksv11/en/qa17_positional-reasoning_test.txt\r\n",
      "tar: Игнорируется неизвестное ключевое слово расширенного заголовка «SCHILY.dev»\r\n",
      "tar: Игнорируется неизвестное ключевое слово расширенного заголовка «SCHILY.ino»\r\n",
      "tar: Игнорируется неизвестное ключевое слово расширенного заголовка «SCHILY.nlink»\r\n",
      "tasksv11/en/qa17_positional-reasoning_train.txt\r\n",
      "tar: Игнорируется неизвестное ключевое слово расширенного заголовка «SCHILY.dev»\r\n",
      "tar: Игнорируется неизвестное ключевое слово расширенного заголовка «SCHILY.ino»\r\n",
      "tar: Игнорируется неизвестное ключевое слово расширенного заголовка «SCHILY.nlink»\r\n",
      "tasksv11/en/qa18_size-reasoning_test.txt\r\n",
      "tar: Игнорируется неизвестное ключевое слово расширенного заголовка «SCHILY.dev»\r\n",
      "tar: Игнорируется неизвестное ключевое слово расширенного заголовка «SCHILY.ino»\r\n",
      "tar: Игнорируется неизвестное ключевое слово расширенного заголовка «SCHILY.nlink»\r\n",
      "tasksv11/en/qa18_size-reasoning_train.txt\r\n",
      "tar: Игнорируется неизвестное ключевое слово расширенного заголовка «SCHILY.dev»\r\n",
      "tar: Игнорируется неизвестное ключевое слово расширенного заголовка «SCHILY.ino»\r\n",
      "tar: Игнорируется неизвестное ключевое слово расширенного заголовка «SCHILY.nlink»\r\n",
      "tasksv11/en/qa19_path-finding_test.txt\r\n",
      "tar: Игнорируется неизвестное ключевое слово расширенного заголовка «SCHILY.dev»\r\n",
      "tar: Игнорируется неизвестное ключевое слово расширенного заголовка «SCHILY.ino»\r\n",
      "tar: Игнорируется неизвестное ключевое слово расширенного заголовка «SCHILY.nlink»\r\n",
      "tasksv11/en/qa19_path-finding_train.txt\r\n",
      "tar: Игнорируется неизвестное ключевое слово расширенного заголовка «SCHILY.dev»\r\n",
      "tar: Игнорируется неизвестное ключевое слово расширенного заголовка «SCHILY.ino»\r\n",
      "tar: Игнорируется неизвестное ключевое слово расширенного заголовка «SCHILY.nlink»\r\n",
      "tasksv11/en/qa1_single-supporting-fact_test.txt\r\n",
      "tar: Игнорируется неизвестное ключевое слово расширенного заголовка «SCHILY.dev»\r\n",
      "tar: Игнорируется неизвестное ключевое слово расширенного заголовка «SCHILY.ino»\r\n",
      "tar: Игнорируется неизвестное ключевое слово расширенного заголовка «SCHILY.nlink»\r\n",
      "tasksv11/en/qa1_single-supporting-fact_train.txt\r\n",
      "tar: Игнорируется неизвестное ключевое слово расширенного заголовка «SCHILY.dev»\r\n",
      "tar: Игнорируется неизвестное ключевое слово расширенного заголовка «SCHILY.ino»\r\n",
      "tar: Игнорируется неизвестное ключевое слово расширенного заголовка «SCHILY.nlink»\r\n",
      "tasksv11/en/qa20_agents-motivations_test.txt\r\n",
      "tar: Игнорируется неизвестное ключевое слово расширенного заголовка «SCHILY.dev»\r\n",
      "tar: Игнорируется неизвестное ключевое слово расширенного заголовка «SCHILY.ino»\r\n",
      "tar: Игнорируется неизвестное ключевое слово расширенного заголовка «SCHILY.nlink»\r\n",
      "tasksv11/en/qa20_agents-motivations_train.txt\r\n",
      "tar: Игнорируется неизвестное ключевое слово расширенного заголовка «SCHILY.dev»\r\n",
      "tar: Игнорируется неизвестное ключевое слово расширенного заголовка «SCHILY.ino»\r\n",
      "tar: Игнорируется неизвестное ключевое слово расширенного заголовка «SCHILY.nlink»\r\n",
      "tasksv11/en/qa2_two-supporting-facts_test.txt\r\n",
      "tar: Игнорируется неизвестное ключевое слово расширенного заголовка «SCHILY.dev»\r\n",
      "tar: Игнорируется неизвестное ключевое слово расширенного заголовка «SCHILY.ino»\r\n",
      "tar: Игнорируется неизвестное ключевое слово расширенного заголовка «SCHILY.nlink»\r\n",
      "tasksv11/en/qa2_two-supporting-facts_train.txt\r\n",
      "tar: Игнорируется неизвестное ключевое слово расширенного заголовка «SCHILY.dev»\r\n",
      "tar: Игнорируется неизвестное ключевое слово расширенного заголовка «SCHILY.ino»\r\n",
      "tar: Игнорируется неизвестное ключевое слово расширенного заголовка «SCHILY.nlink»\r\n",
      "tasksv11/en/qa3_three-supporting-facts_test.txt\r\n",
      "tar: Игнорируется неизвестное ключевое слово расширенного заголовка «SCHILY.dev»\r\n",
      "tar: Игнорируется неизвестное ключевое слово расширенного заголовка «SCHILY.ino»\r\n",
      "tar: Игнорируется неизвестное ключевое слово расширенного заголовка «SCHILY.nlink»\r\n",
      "tasksv11/en/qa3_three-supporting-facts_train.txt\r\n",
      "tar: Игнорируется неизвестное ключевое слово расширенного заголовка «SCHILY.dev»\r\n",
      "tar: Игнорируется неизвестное ключевое слово расширенного заголовка «SCHILY.ino»\r\n",
      "tar: Игнорируется неизвестное ключевое слово расширенного заголовка «SCHILY.nlink»\r\n",
      "tasksv11/en/qa4_two-arg-relations_test.txt\r\n",
      "tar: Игнорируется неизвестное ключевое слово расширенного заголовка «SCHILY.dev»\r\n",
      "tar: Игнорируется неизвестное ключевое слово расширенного заголовка «SCHILY.ino»\r\n",
      "tar: Игнорируется неизвестное ключевое слово расширенного заголовка «SCHILY.nlink»\r\n",
      "tasksv11/en/qa4_two-arg-relations_train.txt\r\n",
      "tar: Игнорируется неизвестное ключевое слово расширенного заголовка «SCHILY.dev»\r\n",
      "tar: Игнорируется неизвестное ключевое слово расширенного заголовка «SCHILY.ino»\r\n",
      "tar: Игнорируется неизвестное ключевое слово расширенного заголовка «SCHILY.nlink»\r\n",
      "tasksv11/en/qa5_three-arg-relations_test.txt\r\n",
      "tar: Игнорируется неизвестное ключевое слово расширенного заголовка «SCHILY.dev»\r\n",
      "tar: Игнорируется неизвестное ключевое слово расширенного заголовка «SCHILY.ino»\r\n",
      "tar: Игнорируется неизвестное ключевое слово расширенного заголовка «SCHILY.nlink»\r\n",
      "tasksv11/en/qa5_three-arg-relations_train.txt\r\n",
      "tar: Игнорируется неизвестное ключевое слово расширенного заголовка «SCHILY.dev»\r\n",
      "tar: Игнорируется неизвестное ключевое слово расширенного заголовка «SCHILY.ino»\r\n",
      "tar: Игнорируется неизвестное ключевое слово расширенного заголовка «SCHILY.nlink»\r\n",
      "tasksv11/en/qa6_yes-no-questions_test.txt\r\n",
      "tar: Игнорируется неизвестное ключевое слово расширенного заголовка «SCHILY.dev»\r\n",
      "tar: Игнорируется неизвестное ключевое слово расширенного заголовка «SCHILY.ino»\r\n",
      "tar: Игнорируется неизвестное ключевое слово расширенного заголовка «SCHILY.nlink»\r\n",
      "tasksv11/en/qa6_yes-no-questions_train.txt\r\n",
      "tar: Игнорируется неизвестное ключевое слово расширенного заголовка «SCHILY.dev»\r\n",
      "tar: Игнорируется неизвестное ключевое слово расширенного заголовка «SCHILY.ino»\r\n",
      "tar: Игнорируется неизвестное ключевое слово расширенного заголовка «SCHILY.nlink»\r\n",
      "tasksv11/en/qa7_counting_test.txt\r\n",
      "tar: Игнорируется неизвестное ключевое слово расширенного заголовка «SCHILY.dev»\r\n",
      "tar: Игнорируется неизвестное ключевое слово расширенного заголовка «SCHILY.ino»\r\n",
      "tar: Игнорируется неизвестное ключевое слово расширенного заголовка «SCHILY.nlink»\r\n",
      "tasksv11/en/qa7_counting_train.txt\r\n",
      "tar: Игнорируется неизвестное ключевое слово расширенного заголовка «SCHILY.dev»\r\n",
      "tar: Игнорируется неизвестное ключевое слово расширенного заголовка «SCHILY.ino»\r\n",
      "tar: Игнорируется неизвестное ключевое слово расширенного заголовка «SCHILY.nlink»\r\n",
      "tasksv11/en/qa8_lists-sets_test.txt\r\n",
      "tar: Игнорируется неизвестное ключевое слово расширенного заголовка «SCHILY.dev»\r\n",
      "tar: Игнорируется неизвестное ключевое слово расширенного заголовка «SCHILY.ino»\r\n",
      "tar: Игнорируется неизвестное ключевое слово расширенного заголовка «SCHILY.nlink»\r\n",
      "tasksv11/en/qa8_lists-sets_train.txt\r\n",
      "tar: Игнорируется неизвестное ключевое слово расширенного заголовка «SCHILY.dev»\r\n",
      "tar: Игнорируется неизвестное ключевое слово расширенного заголовка «SCHILY.ino»\r\n",
      "tar: Игнорируется неизвестное ключевое слово расширенного заголовка «SCHILY.nlink»\r\n",
      "tasksv11/en/qa9_simple-negation_test.txt\r\n",
      "tar: Игнорируется неизвестное ключевое слово расширенного заголовка «SCHILY.dev»\r\n",
      "tar: Игнорируется неизвестное ключевое слово расширенного заголовка «SCHILY.ino»\r\n",
      "tar: Игнорируется неизвестное ключевое слово расширенного заголовка «SCHILY.nlink»\r\n",
      "tasksv11/en/qa9_simple-negation_train.txt\r\n"
     ]
    }
   ],
   "source": [
    "! wget http://www.thespermwhale.com/jaseweston/babi/tasks_1-20_v1-1.tar.gz\n",
    "! tar -xvf tasks_1-20_v1-1.tar.gz"
   ]
  },
  {
   "cell_type": "code",
   "execution_count": 89,
   "id": "95c9e614",
   "metadata": {},
   "outputs": [],
   "source": [
    "import re\n",
    "\n",
    "with open('tasksv11/en/qa1_single-supporting-fact_train.txt') as f:\n",
    "    raw = f.readlines()\n",
    "\n",
    "tokens = list()\n",
    "for line in raw[:1000]:\n",
    "    opt = re.sub(r'[^\\w\\s]', '', line.lower())\n",
    "    tokens.append(opt.replace('\\n', '').replace('\\t', ' ').split(' ')[1:])"
   ]
  },
  {
   "cell_type": "code",
   "execution_count": 90,
   "id": "205893ec",
   "metadata": {},
   "outputs": [
    {
     "data": {
      "text/plain": [
       "['1 Mary moved to the bathroom.\\n',\n",
       " '2 John went to the hallway.\\n',\n",
       " '3 Where is Mary? \\tbathroom\\t1\\n']"
      ]
     },
     "execution_count": 90,
     "metadata": {},
     "output_type": "execute_result"
    }
   ],
   "source": [
    "raw[:3]"
   ]
  },
  {
   "cell_type": "code",
   "execution_count": 91,
   "id": "cd9a0480",
   "metadata": {},
   "outputs": [
    {
     "data": {
      "text/plain": [
       "[['mary', 'moved', 'to', 'the', 'bathroom'],\n",
       " ['john', 'went', 'to', 'the', 'hallway'],\n",
       " ['where', 'is', 'mary', '', 'bathroom', '1']]"
      ]
     },
     "execution_count": 91,
     "metadata": {},
     "output_type": "execute_result"
    }
   ],
   "source": [
    "tokens[:3]"
   ]
  },
  {
   "cell_type": "code",
   "execution_count": 92,
   "id": "6f3b3dd8",
   "metadata": {},
   "outputs": [],
   "source": [
    "vocab = {word for sent in tokens for word in sent}\n",
    "vocab = list(vocab)"
   ]
  },
  {
   "cell_type": "code",
   "execution_count": 93,
   "id": "cbc44775",
   "metadata": {},
   "outputs": [],
   "source": [
    "word2index = {word: i for i, word in enumerate(vocab)}"
   ]
  },
  {
   "cell_type": "code",
   "execution_count": 94,
   "id": "231ecef3",
   "metadata": {},
   "outputs": [],
   "source": [
    "def word2indices(sentence):\n",
    "    return [word2index[word] for word in sentence]"
   ]
  },
  {
   "cell_type": "code",
   "execution_count": 95,
   "id": "ac646e46",
   "metadata": {},
   "outputs": [],
   "source": [
    "def softmax(x):\n",
    "    e_x = np.exp(x - np.max(x))\n",
    "    return e_x / e_x.sum(axis=0)"
   ]
  },
  {
   "cell_type": "code",
   "execution_count": 96,
   "id": "b39e6519",
   "metadata": {},
   "outputs": [],
   "source": [
    "np.random.seed(1)"
   ]
  },
  {
   "cell_type": "code",
   "execution_count": 97,
   "id": "10cb98cc",
   "metadata": {},
   "outputs": [],
   "source": [
    "EMBED_SIZE = 10"
   ]
  },
  {
   "cell_type": "code",
   "execution_count": 98,
   "id": "dcfc92af",
   "metadata": {},
   "outputs": [],
   "source": [
    "embed = (np.random.rand(len(vocab), EMBED_SIZE) - 0.5) * 0.1\n",
    "recurrent = np.eye(EMBED_SIZE)\n",
    "start = np.zeros(EMBED_SIZE)\n",
    "decoder = (np.random.rand(EMBED_SIZE, len(vocab)) - 0.5) * 0.1\n",
    "one_hot = np.eye(len(vocab))"
   ]
  },
  {
   "cell_type": "code",
   "execution_count": 99,
   "id": "72816f4e",
   "metadata": {},
   "outputs": [],
   "source": [
    "def predict(sent):\n",
    "    layer = dict()\n",
    "    layer['hidden'] = start\n",
    "    layers = list()\n",
    "    layers.append(layer)\n",
    "    \n",
    "    loss = 0\n",
    "    preds = list()\n",
    "    for target_i in range(len(sent)):\n",
    "        layer = dict()\n",
    "        layer['pred'] = softmax(layers[-1]['hidden'].dot(decoder))\n",
    "        loss += -np.log(layer['pred'][sent[target_i]])\n",
    "        layer['hidden'] = layers[-1]['hidden'].dot(recurrent) + embed[sent[target_i]]\n",
    "        layers.append(layer)\n",
    "    \n",
    "    return layers, loss"
   ]
  },
  {
   "cell_type": "code",
   "execution_count": 100,
   "id": "6aaec026",
   "metadata": {},
   "outputs": [
    {
     "name": "stdout",
     "output_type": "stream",
     "text": [
      "Perplexity:30.038921571864865\n",
      "Perplexity:30.038921571864865\n",
      "Perplexity:30.038921571864865\n",
      "Perplexity:30.038921571864865\n",
      "Perplexity:29.975890308811596\n",
      "Perplexity:29.975890308811596\n",
      "Perplexity:29.975890308811596\n",
      "Perplexity:29.975890308811596\n",
      "Perplexity:29.906466931910458\n",
      "Perplexity:29.906466931910458\n",
      "Perplexity:29.906466931910458\n",
      "Perplexity:29.906466931910458\n",
      "Perplexity:29.809777852122263\n",
      "Perplexity:29.809777852122263\n",
      "Perplexity:29.809777852122263\n",
      "Perplexity:29.809777852122263\n",
      "Perplexity:29.653315202674566\n",
      "Perplexity:29.653315202674566\n",
      "Perplexity:29.653315202674566\n",
      "Perplexity:29.653315202674566\n",
      "Perplexity:29.37624181809044\n",
      "Perplexity:29.37624181809044\n",
      "Perplexity:29.37624181809044\n",
      "Perplexity:29.37624181809044\n",
      "Perplexity:28.846207331927058\n",
      "Perplexity:28.846207331927058\n",
      "Perplexity:28.846207331927058\n",
      "Perplexity:28.846207331927058\n",
      "Perplexity:27.714714925195725\n",
      "Perplexity:27.714714925195725\n",
      "Perplexity:27.714714925195725\n",
      "Perplexity:27.714714925195725\n",
      "Perplexity:24.799951472333888\n",
      "Perplexity:24.799951472333888\n",
      "Perplexity:24.799951472333888\n",
      "Perplexity:24.799951472333888\n",
      "Perplexity:19.049370096322345\n",
      "Perplexity:19.049370096322345\n",
      "Perplexity:19.049370096322345\n",
      "Perplexity:19.049370096322345\n",
      "Perplexity:16.320811795068742\n",
      "Perplexity:16.320811795068742\n",
      "Perplexity:16.320811795068742\n",
      "Perplexity:16.320811795068742\n",
      "Perplexity:14.536044025857013\n",
      "Perplexity:14.536044025857013\n",
      "Perplexity:14.536044025857013\n",
      "Perplexity:14.536044025857013\n",
      "Perplexity:13.330937418167297\n",
      "Perplexity:13.330937418167297\n",
      "Perplexity:13.330937418167297\n",
      "Perplexity:13.330937418167297\n",
      "Perplexity:12.040203205226515\n",
      "Perplexity:12.040203205226515\n",
      "Perplexity:12.040203205226515\n",
      "Perplexity:12.040203205226515\n",
      "Perplexity:10.043254946947183\n",
      "Perplexity:10.043254946947183\n",
      "Perplexity:10.043254946947183\n",
      "Perplexity:10.043254946947183\n",
      "Perplexity:7.3008366754625715\n",
      "Perplexity:7.3008366754625715\n",
      "Perplexity:7.3008366754625715\n",
      "Perplexity:7.3008366754625715\n",
      "Perplexity:5.937325942206286\n",
      "Perplexity:5.937325942206286\n",
      "Perplexity:5.937325942206286\n",
      "Perplexity:5.937325942206286\n",
      "Perplexity:5.3102975244705375\n",
      "Perplexity:5.3102975244705375\n",
      "Perplexity:5.3102975244705375\n",
      "Perplexity:5.3102975244705375\n",
      "Perplexity:4.874544007439991\n",
      "Perplexity:4.874544007439991\n",
      "Perplexity:4.874544007439991\n",
      "Perplexity:4.874544007439991\n",
      "Perplexity:4.54979450675377\n",
      "Perplexity:4.54979450675377\n",
      "Perplexity:4.54979450675377\n",
      "Perplexity:4.54979450675377\n",
      "Perplexity:4.313088813911679\n",
      "Perplexity:4.313088813911679\n",
      "Perplexity:4.313088813911679\n",
      "Perplexity:4.313088813911679\n",
      "Perplexity:4.13999456430982\n",
      "Perplexity:4.13999456430982\n",
      "Perplexity:4.13999456430982\n",
      "Perplexity:4.13999456430982\n",
      "Perplexity:4.008369424972447\n",
      "Perplexity:4.008369424972447\n",
      "Perplexity:4.008369424972447\n",
      "Perplexity:4.008369424972447\n",
      "Perplexity:3.90367565967374\n",
      "Perplexity:3.90367565967374\n",
      "Perplexity:3.90367565967374\n",
      "Perplexity:3.90367565967374\n",
      "Perplexity:3.817408755082953\n",
      "Perplexity:3.817408755082953\n",
      "Perplexity:3.817408755082953\n",
      "Perplexity:3.817408755082953\n",
      "Perplexity:3.7445641268542116\n",
      "Perplexity:3.7445641268542116\n",
      "Perplexity:3.7445641268542116\n",
      "Perplexity:3.7445641268542116\n",
      "Perplexity:3.682994370822699\n",
      "Perplexity:3.682994370822699\n",
      "Perplexity:3.682994370822699\n",
      "Perplexity:3.682994370822699\n",
      "Perplexity:3.63401283697789\n",
      "Perplexity:3.63401283697789\n",
      "Perplexity:3.63401283697789\n",
      "Perplexity:3.63401283697789\n",
      "Perplexity:3.597829359172368\n",
      "Perplexity:3.597829359172368\n",
      "Perplexity:3.597829359172368\n",
      "Perplexity:3.597829359172368\n",
      "Perplexity:3.5701361133633025\n",
      "Perplexity:3.5701361133633025\n",
      "Perplexity:3.5701361133633025\n",
      "Perplexity:3.5701361133633025\n"
     ]
    }
   ],
   "source": [
    "for iter in range(30000):\n",
    "    ALPHA = 0.001\n",
    "    sent = word2indices(tokens[iter % len(tokens)][1:])\n",
    "    layers, loss = predict(sent)\n",
    "    \n",
    "    for layer_idx in reversed(range(len(layers))):\n",
    "        layer = layers[layer_idx]\n",
    "        target = sent[layer_idx - 1]\n",
    "        if(layer_idx > 0):\n",
    "            layer['output_delta'] = layer['pred'] - one_hot[target]\n",
    "            new_hidden_delta = layer['output_delta'].dot(decoder.T)\n",
    "            if(layer_idx == len(layers)-1):\n",
    "                layer['hidden_delta'] = new_hidden_delta\n",
    "            else:\n",
    "                layer['hidden_delta'] = new_hidden_delta + layers[layer_idx+1]['hidden_delta'].dot(recurrent.T)\n",
    "        else:\n",
    "            layer['hidden_delta'] = layers[layer_idx+1]['hidden_delta'].dot(recurrent.T)\n",
    "            \n",
    "    start -= layers[0]['hidden_delta'] * ALPHA / float(len(sent))\n",
    "    for layer_idx,layer in enumerate(layers[1:]):\n",
    "        decoder -= np.outer(layers[layer_idx]['hidden'],\\\n",
    "        layer['output_delta']) * ALPHA / float(len(sent))\n",
    "        embed_idx = sent[layer_idx]\n",
    "        embed[embed_idx] -= layers[layer_idx]['hidden_delta'] * ALPHA / float(len(sent))\n",
    "        recurrent -= np.outer(layers[layer_idx]['hidden'], layer['hidden_delta']) * ALPHA / float(len(sent))\n",
    "        if(iter % 1000 == 0):\n",
    "            print(\"Perplexity:\" + str(np.exp(loss/len(sent))))            "
   ]
  },
  {
   "cell_type": "code",
   "execution_count": 102,
   "id": "98dab7e1",
   "metadata": {},
   "outputs": [
    {
     "name": "stdout",
     "output_type": "stream",
     "text": [
      "['sandra', 'moved', 'to', 'the', 'garden']\n",
      "Prev Input:sandra      True:moved          Pred:to\n",
      "Prev Input:moved       True:to             Pred:to\n",
      "Prev Input:to          True:the            Pred:the\n",
      "Prev Input:the         True:garden         Pred:bedroom\n"
     ]
    }
   ],
   "source": [
    "sent_index = 4\n",
    "l,_ = predict(word2indices(tokens[sent_index]))\n",
    "print(tokens[sent_index])\n",
    "for i,each_layer in enumerate(l[1:-1]):\n",
    "    input = tokens[sent_index][i]\n",
    "    true = tokens[sent_index][i+1]\n",
    "    pred = vocab[each_layer['pred'].argmax()]\n",
    "    print(\"Prev Input:\" + input + (' ' * (12 - len(input))) +\\\n",
    "    \"True:\" + true + (\" \" * (15 - len(true))) + \"Pred:\" + pred)"
   ]
  },
  {
   "cell_type": "code",
   "execution_count": null,
   "id": "447f3ee2",
   "metadata": {},
   "outputs": [],
   "source": []
  }
 ],
 "metadata": {
  "kernelspec": {
   "display_name": "my_env",
   "language": "python",
   "name": "my_env"
  },
  "language_info": {
   "codemirror_mode": {
    "name": "ipython",
    "version": 3
   },
   "file_extension": ".py",
   "mimetype": "text/x-python",
   "name": "python",
   "nbconvert_exporter": "python",
   "pygments_lexer": "ipython3",
   "version": "3.8.8"
  }
 },
 "nbformat": 4,
 "nbformat_minor": 5
}
