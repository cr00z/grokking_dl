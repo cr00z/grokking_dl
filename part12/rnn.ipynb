{
 "cells": [
  {
   "cell_type": "markdown",
   "id": "f7d037d8",
   "metadata": {},
   "source": [
    "# SECTION 1: load db"
   ]
  },
  {
   "cell_type": "code",
   "execution_count": 3,
   "id": "c49e6087",
   "metadata": {},
   "outputs": [],
   "source": [
    "with open('../part11/labels.txt') as labels:\n",
    "    target_dataset = [1 if lbl[0] == 'p' else 0 for lbl in labels.readlines()]\n",
    "\n",
    "with open('../part11/reviews.txt') as reviews:\n",
    "    text = [line.upper() for line in reviews.readlines()]\n",
    "\n",
    "vocab = set(' '.join(text).split(' '))  # 74075\n",
    "vocab.remove('')\n",
    "\n",
    "word2index = {word: i for i, word in enumerate(vocab)}  # 74075\n",
    "\n",
    "input_dataset = [[word2index[word] for word in review.split(' ') if word != ''] for review in text]"
   ]
  },
  {
   "cell_type": "code",
   "execution_count": 5,
   "id": "55e161fc",
   "metadata": {},
   "outputs": [
    {
     "name": "stdout",
     "output_type": "stream",
     "text": [
      "Length dataset samples 25000\n",
      "Length positive samples 12500\n",
      "Length negative samples 12500\n"
     ]
    }
   ],
   "source": [
    "from sklearn.utils import shuffle\n",
    "input_dataset_shuffled, target_dataset_shuffled = shuffle(input_dataset, target_dataset)\n",
    "print('Length dataset samples {}'.format(len(input_dataset_shuffled)))\n",
    "print('Length positive samples {}'.format(len([t for t in target_dataset_shuffled if t == 1])))\n",
    "print('Length negative samples {}'.format(len([t for t in target_dataset_shuffled if t == 0])))"
   ]
  },
  {
   "cell_type": "markdown",
   "id": "5fc251bf",
   "metadata": {},
   "source": [
    "# SECTION 2: fit & predict"
   ]
  },
  {
   "cell_type": "code",
   "execution_count": 8,
   "id": "3f362746",
   "metadata": {},
   "outputs": [],
   "source": [
    "import numpy as np\n",
    "np.random.seed(1)"
   ]
  },
  {
   "cell_type": "code",
   "execution_count": 9,
   "id": "5f280aad",
   "metadata": {},
   "outputs": [],
   "source": [
    "def sigmoid(x):\n",
    "    return 1 / (1 + np.exp(-x))"
   ]
  },
  {
   "cell_type": "code",
   "execution_count": 10,
   "id": "69c61e59",
   "metadata": {},
   "outputs": [],
   "source": [
    "ALPHA = 0.01\n",
    "ITERATIONS = 5\n",
    "HIDDEN_SIZE = 100"
   ]
  },
  {
   "cell_type": "code",
   "execution_count": 11,
   "id": "3a9cbf82",
   "metadata": {},
   "outputs": [],
   "source": [
    "weights_0_1 = 0.2 * np.random.random((len(vocab), HIDDEN_SIZE)) - 0.1\n",
    "weights_1_2 = 0.2 * np.random.random((HIDDEN_SIZE, 1)) - 0.1"
   ]
  },
  {
   "cell_type": "code",
   "execution_count": 14,
   "id": "765d341a",
   "metadata": {},
   "outputs": [],
   "source": [
    "def fit(x_train, y_train):\n",
    "    correct = 0\n",
    "    total = 0\n",
    "    \n",
    "    global weights_0_1, weights_1_2\n",
    "    \n",
    "    for iter in range(ITERATIONS):\n",
    "        for i in range(len(x_train)):\n",
    "            x = x_train[i]\n",
    "            y = y_train[i]\n",
    "            \n",
    "            layer_1 = sigmoid(np.sum(weights_0_1[x], axis=0))\n",
    "            layer_2 = sigmoid(np.dot(layer_1, weights_1_2))\n",
    "            layer_2_delta = layer_2 - y\n",
    "            layer_1_delta = layer_2_delta.dot(weights_1_2.T)\n",
    "            weights_0_1[x] -= layer_1_delta * ALPHA\n",
    "            weights_1_2 -= np.outer(layer_1,layer_2_delta) * ALPHA\n",
    "            \n",
    "            if(np.abs(layer_2_delta) < 0.5):\n",
    "                correct += 1\n",
    "            total += 1\n",
    "        \n",
    "        print(\"iter: {}, train: {}\".format(iter, correct/total))"
   ]
  },
  {
   "cell_type": "code",
   "execution_count": 15,
   "id": "342aa835",
   "metadata": {},
   "outputs": [
    {
     "name": "stdout",
     "output_type": "stream",
     "text": [
      "iter: 0, train: 0.817875\n",
      "iter: 1, train: 0.8469583333333334\n",
      "iter: 2, train: 0.8614166666666667\n",
      "iter: 3, train: 0.87021875\n",
      "iter: 4, train: 0.8765\n"
     ]
    }
   ],
   "source": [
    "fit(input_dataset_shuffled[:-1000], target_dataset_shuffled[:-1000])"
   ]
  },
  {
   "cell_type": "code",
   "execution_count": 16,
   "id": "4b3ce165",
   "metadata": {},
   "outputs": [],
   "source": [
    "def predict(x_test, y_test):\n",
    "    correct = 0\n",
    "    total = 0\n",
    "    \n",
    "    global weights_0_1, weights_1_2\n",
    "    \n",
    "    for i in range(len(x_test)):\n",
    "        x = x_test[i]\n",
    "        y = y_test[i]\n",
    "\n",
    "        layer_1 = sigmoid(np.sum(weights_0_1[x], axis=0))\n",
    "        layer_2 = sigmoid(np.dot(layer_1, weights_1_2))\n",
    "\n",
    "        if(np.abs(layer_2 - y) < 0.5):\n",
    "            correct += 1\n",
    "        total += 1\n",
    "\n",
    "    print(\"test: {}\".format(correct/total))    "
   ]
  },
  {
   "cell_type": "code",
   "execution_count": 17,
   "id": "f18d412a",
   "metadata": {},
   "outputs": [
    {
     "name": "stdout",
     "output_type": "stream",
     "text": [
      "test: 0.865\n"
     ]
    }
   ],
   "source": [
    "predict(input_dataset_shuffled[-1000:], target_dataset_shuffled[-1000:])"
   ]
  },
  {
   "cell_type": "markdown",
   "id": "3ecea691",
   "metadata": {},
   "source": [
    "# SECTION 3: similar reviews"
   ]
  },
  {
   "cell_type": "code",
   "execution_count": 60,
   "id": "3b68d38d",
   "metadata": {},
   "outputs": [],
   "source": [
    "from collections import Counter"
   ]
  },
  {
   "cell_type": "code",
   "execution_count": 56,
   "id": "5e8e9643",
   "metadata": {},
   "outputs": [
    {
     "data": {
      "text/plain": [
       "94"
      ]
     },
     "execution_count": 56,
     "metadata": {},
     "output_type": "execute_result"
    }
   ],
   "source": [
    "tokens = list(map(set, [line.split(' ') for line in text]))\n",
    "len(tokens[0])"
   ]
  },
  {
   "cell_type": "code",
   "execution_count": 53,
   "id": "d1d2ed35",
   "metadata": {},
   "outputs": [
    {
     "data": {
      "text/plain": [
       "168"
      ]
     },
     "execution_count": 53,
     "metadata": {},
     "output_type": "execute_result"
    }
   ],
   "source": [
    "len(input_dataset[0])"
   ]
  },
  {
   "cell_type": "code",
   "execution_count": 18,
   "id": "452aa82b",
   "metadata": {},
   "outputs": [],
   "source": [
    "norms = np.sum(weights_0_1 * weights_0_1, axis=1)"
   ]
  },
  {
   "cell_type": "code",
   "execution_count": 19,
   "id": "3607cc8d",
   "metadata": {},
   "outputs": [
    {
     "data": {
      "text/plain": [
       "(74074,)"
      ]
     },
     "execution_count": 19,
     "metadata": {},
     "output_type": "execute_result"
    }
   ],
   "source": [
    "norms.shape"
   ]
  },
  {
   "cell_type": "code",
   "execution_count": 24,
   "id": "22e0c9f4",
   "metadata": {},
   "outputs": [],
   "source": [
    "norms.resize(norms.shape[0], 1)"
   ]
  },
  {
   "cell_type": "code",
   "execution_count": 27,
   "id": "62c932d0",
   "metadata": {},
   "outputs": [],
   "source": [
    "normed_weights = weights_0_1 * norms"
   ]
  },
  {
   "cell_type": "code",
   "execution_count": 41,
   "id": "8c59c1ca",
   "metadata": {},
   "outputs": [],
   "source": [
    "def make_sent_vect(words):\n",
    "    words = [w.upper() for w in words]\n",
    "    indices = [word2index[word] for word in words if word in word2index]\n",
    "    return np.mean(normed_weights[indices], axis=0)"
   ]
  },
  {
   "cell_type": "code",
   "execution_count": 57,
   "id": "4f3c044c",
   "metadata": {},
   "outputs": [],
   "source": [
    "reviews2vectors = np.array([make_sent_vect(review) for review in tokens])"
   ]
  },
  {
   "cell_type": "code",
   "execution_count": 63,
   "id": "08b1296e",
   "metadata": {},
   "outputs": [],
   "source": [
    "def most_similar_reviews(review):\n",
    "    v = make_sent_vect(review)\n",
    "    scores = Counter()\n",
    "    for i, val in enumerate(reviews2vectors.dot(v)):\n",
    "        scores[i] = val\n",
    "    most_similar = list()\n",
    "    for idx, score in scores.most_common(3):\n",
    "        most_similar.append(text[idx][:100])\n",
    "    return most_similar"
   ]
  },
  {
   "cell_type": "code",
   "execution_count": 64,
   "id": "7f9ed350",
   "metadata": {},
   "outputs": [
    {
     "data": {
      "text/plain": [
       "['THIS IS WITHOUT A DOUBT THE WORST MOVIE I HAVE EVER SEEN . IT IS NOT FUNNY . IT IS NOT INTERESTING A',\n",
       " 'THIS MOVIE IS SO BAD  IT CAN ONLY BE COMPARED TO THE ALL  TIME WORST  COMEDY   POLICE ACADEMY  . NO ',\n",
       " 'WITHOUT QUESTION  THE WORST ELVIS FILM EVER MADE . THE MOVIE PORTRAYS ALL INDIANS AS DRUNK  STUPID  ']"
      ]
     },
     "execution_count": 64,
     "metadata": {},
     "output_type": "execute_result"
    }
   ],
   "source": [
    "most_similar_reviews(['boring','awful'])"
   ]
  },
  {
   "cell_type": "code",
   "execution_count": 65,
   "id": "8fdacf78",
   "metadata": {},
   "outputs": [
    {
     "data": {
      "text/plain": [
       "['ADRIAN PASDAR IS EXCELLENT IS THIS FILM . HE MAKES A FASCINATING WOMAN .  \\n',\n",
       " 'EXCELLENT EPISODE MOVIE ALA PULP FICTION .  DAYS   SUICIDES . IT DOESNT GET MORE DEPRESSING THAN THI',\n",
       " 'THIS FILM HAS GOOD CHARACTERS WITH EXCELLENT PERFORMANCES FROM THE CAST . DAVID STRATHAIRN IS DIABOL']"
      ]
     },
     "execution_count": 65,
     "metadata": {},
     "output_type": "execute_result"
    }
   ],
   "source": [
    "most_similar_reviews(['great','amazing'])"
   ]
  },
  {
   "cell_type": "code",
   "execution_count": null,
   "id": "441854eb",
   "metadata": {},
   "outputs": [],
   "source": []
  }
 ],
 "metadata": {
  "kernelspec": {
   "display_name": "my_env",
   "language": "python",
   "name": "my_env"
  },
  "language_info": {
   "codemirror_mode": {
    "name": "ipython",
    "version": 3
   },
   "file_extension": ".py",
   "mimetype": "text/x-python",
   "name": "python",
   "nbconvert_exporter": "python",
   "pygments_lexer": "ipython3",
   "version": "3.8.8"
  }
 },
 "nbformat": 4,
 "nbformat_minor": 5
}
