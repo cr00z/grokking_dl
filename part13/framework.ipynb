{
 "cells": [
  {
   "cell_type": "code",
   "execution_count": 17,
   "id": "ba7d1bf1",
   "metadata": {},
   "outputs": [],
   "source": [
    "import numpy as np\n",
    "\n",
    "\n",
    "class Tensor(object):\n",
    "\n",
    "    \n",
    "    def __init__(self, data, creators=None, creation_op=None):\n",
    "        self.data = np.array(data)\n",
    "        self.creation_op = creation_op\n",
    "        self.creators = creators\n",
    "        self.grad = None\n",
    "\n",
    "        \n",
    "    def backward(self, grad):\n",
    "        self.grad = grad\n",
    "        \n",
    "        if (self.creation_op == 'add'):\n",
    "            self.creators[0].backward(grad)\n",
    "            self.creators[1].backward(grad)\n",
    "    \n",
    "        \n",
    "    def __add__(self, other):\n",
    "        return Tensor(self.data + other.data, creators=[self, other], creation_op='add')\n",
    "    \n",
    "    \n",
    "    def __repr__(self):\n",
    "        return str(self.data.__repr__())\n",
    "    \n",
    "    \n",
    "    def __str__(self):\n",
    "        return str(self.data.__str__())"
   ]
  },
  {
   "cell_type": "code",
   "execution_count": 18,
   "id": "79eacd63",
   "metadata": {},
   "outputs": [
    {
     "name": "stdout",
     "output_type": "stream",
     "text": [
      "[3 4 5 6 7]\n"
     ]
    }
   ],
   "source": [
    "x = Tensor([1, 2, 3, 4, 5])\n",
    "y = Tensor([2, 2, 2, 2, 2])\n",
    "\n",
    "z = x + y\n",
    "print(z)"
   ]
  },
  {
   "cell_type": "code",
   "execution_count": 21,
   "id": "d384990b",
   "metadata": {},
   "outputs": [
    {
     "name": "stdout",
     "output_type": "stream",
     "text": [
      "[1 1 1 1 1]\n",
      "[1 1 1 1 1]\n",
      "[array([1, 2, 3, 4, 5]), array([2, 2, 2, 2, 2])]\n",
      "add\n"
     ]
    }
   ],
   "source": [
    "z.backward(Tensor(np.array([1, 1, 1, 1, 1])))\n",
    "print(x.grad)\n",
    "print(y.grad)\n",
    "print(z.creators)\n",
    "print(z.creation_op)"
   ]
  },
  {
   "cell_type": "markdown",
   "id": "c8e6990a",
   "metadata": {},
   "source": [
    "ошибка"
   ]
  },
  {
   "cell_type": "code",
   "execution_count": 22,
   "id": "053f8622",
   "metadata": {},
   "outputs": [
    {
     "name": "stdout",
     "output_type": "stream",
     "text": [
      "[1 1 1 1 1]\n"
     ]
    }
   ],
   "source": [
    "a = Tensor([1, 2, 3, 4, 5])\n",
    "b = Tensor([2, 2, 2, 2, 2])\n",
    "c = Tensor([5, 4, 3, 2, 1])\n",
    "d = a + b\n",
    "e = b + c\n",
    "f = d + e\n",
    "f.backward(Tensor([1, 1, 1, 1, 1]))\n",
    "print(b.grad)"
   ]
  },
  {
   "cell_type": "markdown",
   "id": "be58cd40",
   "metadata": {},
   "source": [
    "# SECTION 2: autograd"
   ]
  },
  {
   "cell_type": "code",
   "execution_count": 134,
   "id": "b4fd654f",
   "metadata": {},
   "outputs": [],
   "source": [
    "class Tensor(object):\n",
    "\n",
    "    \n",
    "    def __init__(self, data,\n",
    "                 autograd=False,\n",
    "                 creators=None,\n",
    "                 creation_op=None,\n",
    "                 id=None):\n",
    "        \n",
    "        self.data = np.array(data)\n",
    "        self.creators = creators\n",
    "        self.creation_op = creation_op\n",
    "        self.grad = None\n",
    "        self.autograd = autograd\n",
    "        self.children = {}\n",
    "        \n",
    "        if id is None:\n",
    "            id = np.random.randint(0, 100000)\n",
    "        self.id = id\n",
    "        \n",
    "        if creators is not None:\n",
    "            for c in creators:\n",
    "                if self.id not in c.children:\n",
    "                    c.children[self.id] = 1\n",
    "                else:\n",
    "                    c.children[self.id] += 1\n",
    "                    \n",
    "                    \n",
    "    def all_children_grads_accounted_for(self):\n",
    "        for id, cnt in self.children.items():\n",
    "            if cnt != 0:\n",
    "                return False\n",
    "        return True\n",
    "        \n",
    "        \n",
    "    def backward(self, grad=None, grad_origin=None):\n",
    "        if self.autograd:\n",
    "            if grad is None:\n",
    "                grad = Tensor(np.ones_like(self.data))\n",
    "            \n",
    "            if grad_origin is not None:\n",
    "                if self.children[grad_origin.id] == 0:\n",
    "                    raise Exception('cannot backprop more than once')\n",
    "                else:\n",
    "                    self.children[grad_origin.id] -= 1\n",
    "            \n",
    "            if self.grad is None:\n",
    "                self.grad = grad\n",
    "            else:\n",
    "                self.grad += grad\n",
    "            \n",
    "            if self.creators is not None and (self.all_children_grads_accounted_for() or grad_origin is None):\n",
    "                if self.creation_op == 'add':\n",
    "                    self.creators[0].backward(self.grad, self)\n",
    "                    self.creators[1].backward(self.grad, self)\n",
    "                \n",
    "                if self.creation_op == 'neg':\n",
    "                    self.creators[0].backward(self.grad.__neg__())\n",
    "                    \n",
    "                if self.creation_op == 'sub':\n",
    "                    new = Tensor(self.grad.data)\n",
    "                    self.creators[0].backward(new, self)\n",
    "                    new = Tensor(self.grad.__neg__().data)\n",
    "                    self.creators[1].backward(new, self)\n",
    "                \n",
    "                if self.creation_op == 'mul':\n",
    "                    new = self.grad * self.creators[1]\n",
    "                    self.creators[0].backward(new, self)\n",
    "                    new = self.grad * self.creators[0]\n",
    "                    self.creators[1].backward(new, self)\n",
    "                    \n",
    "                if self.creation_op == 'mm':\n",
    "                    act = self.creators[0]     # usually an activation\n",
    "                    weights = self.creators[1] # usually a weight matrix\n",
    "                    new = self.grad.mm(weights.transpose())\n",
    "                    act.backward(new)\n",
    "                    new = self.grad.transpose().mm(act).transpose()\n",
    "                    weights.backward(new)\n",
    "\n",
    "                if self.creation_op == 'transpose':\n",
    "                    self.creators[0].backward(self.grad.transpose())\n",
    "                    \n",
    "                if 'sum' in self.creation_op:\n",
    "                    dim = int(self.creation_op.split('_')[1])\n",
    "                    ds = self.creators[0].data.shape[dim]\n",
    "                    self.creators[0].backward(self.grad.expand(dim,ds))\n",
    "                    \n",
    "                if 'expand' in self.creation_op:\n",
    "                    dim = int(self.creation_op.split('_')[1])\n",
    "                    self.creators[0].backward(self.grad.sum(dim))\n",
    "                    \n",
    "                if self.creation_op == 'sigmoid':\n",
    "                    ones = Tensor(np.ones_like(self.grad.data))\n",
    "                    self.creators[0].backward(self.grad * (self * (ones - self)))\n",
    "                    \n",
    "                if self.creation_op == 'tanh':\n",
    "                    ones = Tensor(np.ones_like(self.grad.data))\n",
    "                    self.creators[0].backward(self.grad * (ones - (self * self)))\n",
    "    \n",
    "                if self.creation_op == 'index_select':\n",
    "                    new_grad = np.zeros_like(self.creators[0].data)\n",
    "                    indices_ = self.index_select_indices.data.flatten()\n",
    "                    grad_ = grad.data.reshape(len(indices_), -1)\n",
    "                    for i in range(len(indices_)):\n",
    "                        new_grad[indices_[i]] += grad_[i]\n",
    "                    self.creators[0].backward(Tensor(new_grad))\n",
    "\n",
    "                if self.creation_op == 'cross_entropy':\n",
    "                    dx = self.softmax_output - self.target_dist\n",
    "                    self.creators[0].backward(Tensor(dx))\n",
    "\n",
    "\n",
    "    def __add__(self, other):\n",
    "        if self.autograd and other.autograd:\n",
    "            return Tensor(self.data + other.data,\n",
    "                          autograd=True,\n",
    "                          creators=[self, other],\n",
    "                          creation_op='add')\n",
    "        return Tensor(self.data + other.data)\n",
    "\n",
    "    \n",
    "    def __neg__(self):\n",
    "        if self.autograd:\n",
    "            return Tensor(self.data * -1,\n",
    "                          autograd=True,\n",
    "                          creators=[self],\n",
    "                          creation_op='neg')\n",
    "        return Tensor(self.data * -1)\n",
    "    \n",
    "   \n",
    "    def __sub__(self, other):\n",
    "        if self.autograd and other.autograd: \n",
    "            return Tensor(self.data - other.data, \n",
    "                          autograd=True,\n",
    "                          creators=[self,other],\n",
    "                          creation_op=\"sub\")\n",
    "        return Tensor(self.data - other.data)\n",
    "\n",
    "    \n",
    "    def __mul__(self, other):\n",
    "        if self.autograd and other.autograd:\n",
    "            return Tensor(self.data * other.data,\n",
    "                          autograd=True,\n",
    "                          creators=[self,other],\n",
    "                          creation_op=\"mul\")\n",
    "        return Tensor(self.data * other.data)\n",
    "\n",
    "    \n",
    "    def sum(self, dim):\n",
    "        if self.autograd:\n",
    "            return Tensor(self.data.sum(dim),\n",
    "                          autograd=True,\n",
    "                          creators=[self],\n",
    "                          creation_op=\"sum_\"+str(dim))\n",
    "        return Tensor(self.data.sum(dim))\n",
    "\n",
    "    \n",
    "    def expand(self, dim, copies):\n",
    "        trans_cmd = list(range(0,len(self.data.shape)))\n",
    "        trans_cmd.insert(dim,len(self.data.shape))\n",
    "        new_shape = list(self.data.shape) + [copies]\n",
    "        new_data = self.data.repeat(copies).reshape(new_shape)\n",
    "        new_data = new_data.transpose(trans_cmd)\n",
    "        if self.autograd:\n",
    "            return Tensor(new_data, autograd=True, creators=[self], creation_op=\"expand_\"+str(dim))\n",
    "        return Tensor(new_data)\n",
    "\n",
    "    \n",
    "    def transpose(self):\n",
    "        if self.autograd:\n",
    "            return Tensor(self.data.transpose(),\n",
    "                          autograd=True,\n",
    "                          creators=[self],\n",
    "                          creation_op=\"transpose\")\n",
    "        return Tensor(self.data.transpose())\n",
    "\n",
    "    \n",
    "    def mm(self, x):\n",
    "        if self.autograd:\n",
    "            return Tensor(self.data.dot(x.data),\n",
    "                          autograd=True,\n",
    "                          creators=[self,x],\n",
    "                          creation_op=\"mm\")\n",
    "        return Tensor(self.data.dot(x.data))\n",
    "    \n",
    "    \n",
    "    def sigmoid(self):\n",
    "        if self.autograd:\n",
    "            return Tensor(1 / (1 + np.exp(-self.data)),\n",
    "                          autograd=True,\n",
    "                          creators=[self],\n",
    "                          creation_op='sigmoid')\n",
    "        return Tensor(1 / (1 + np.exp(-self.data)))\n",
    "    \n",
    "    \n",
    "    def tanh(self):\n",
    "        if self.autograd:\n",
    "            return Tensor(np.tanh(self.data),\n",
    "                          autograd=True,\n",
    "                          creators=[self],\n",
    "                          creation_op='tanh')\n",
    "        return Tensor(np.tanh(self.data))\n",
    "\n",
    "    \n",
    "    def index_select(self, indices):\n",
    "        if self.autograd:\n",
    "            new = Tensor(self.data[indices.data],\n",
    "                         autograd=True,\n",
    "                         creators=[self],\n",
    "                         creation_op='index_select')\n",
    "            new.index_select_indices = indices\n",
    "            return new\n",
    "        return Tensor(self.data[indices.data])\n",
    "                                              \n",
    "                                              \n",
    "    def cross_entropy(self, target_indices):\n",
    "        temp = np.exp(self.data)\n",
    "        softmax_output = temp / np.sum(temp,\n",
    "                                       axis=len(self.data.shape)-1,\n",
    "                                       keepdims=True)\n",
    "        t = target_indices.data.flatten()\n",
    "        p = softmax_output.reshape(len(t),-1)\n",
    "    \n",
    "        target_dist = np.eye(p.shape[1])[t]\n",
    "        loss = -(np.log(p) * (target_dist)).sum(1).mean()\n",
    "        \n",
    "        if self.autograd:\n",
    "            out = Tensor(loss,\n",
    "                         autograd=True,\n",
    "                         creators=[self],\n",
    "                         creation_op='cross_entropy')\n",
    "            out.softmax_output = softmax_output\n",
    "            out.target_dist = target_dist\n",
    "            return out\n",
    "        return Tensor(loss)                                              \n",
    "    \n",
    "    \n",
    "    def __repr__(self):\n",
    "        return str(self.data.__repr__())\n",
    "    \n",
    "    \n",
    "    def __str__(self):\n",
    "        return str(self.data.__str__())"
   ]
  },
  {
   "cell_type": "code",
   "execution_count": 116,
   "id": "6e3f5991",
   "metadata": {},
   "outputs": [
    {
     "name": "stdout",
     "output_type": "stream",
     "text": [
      "[2 2 2 2 2]\n"
     ]
    }
   ],
   "source": [
    "a = Tensor([1, 2, 3, 4, 5], autograd=True)\n",
    "b = Tensor([2, 2, 2, 2, 2], autograd=True)\n",
    "c = Tensor([5, 4, 3, 2, 1], autograd=True)\n",
    "d = a + b\n",
    "e = b + c\n",
    "f = d + e\n",
    "f.backward(Tensor(np.array([1, 1, 1, 1, 1])))\n",
    "print(b.grad)"
   ]
  },
  {
   "cell_type": "code",
   "execution_count": 84,
   "id": "fb5381ff",
   "metadata": {},
   "outputs": [
    {
     "name": "stdout",
     "output_type": "stream",
     "text": [
      "23630 76945 64305 32347 96020 52018\n"
     ]
    }
   ],
   "source": [
    "print(a.id, b.id, c.id, d.id, e.id, f.id)"
   ]
  },
  {
   "cell_type": "code",
   "execution_count": 85,
   "id": "9686a71b",
   "metadata": {},
   "outputs": [
    {
     "data": {
      "text/plain": [
       "{32347: 0, 96020: 0}"
      ]
     },
     "execution_count": 85,
     "metadata": {},
     "output_type": "execute_result"
    }
   ],
   "source": [
    "b.children"
   ]
  },
  {
   "cell_type": "markdown",
   "id": "5a107d53",
   "metadata": {},
   "source": [
    "# SECTION 3: manual network"
   ]
  },
  {
   "cell_type": "code",
   "execution_count": 91,
   "id": "f61fd158",
   "metadata": {},
   "outputs": [
    {
     "name": "stdout",
     "output_type": "stream",
     "text": [
      "5.066439994622395\n",
      "0.4959907791902342\n",
      "0.4180671892167177\n",
      "0.35298133007809646\n",
      "0.2972549636567377\n",
      "0.24923260381633286\n",
      "0.20785392075862477\n",
      "0.17231260916265181\n",
      "0.14193744536652994\n",
      "0.11613979792168386\n"
     ]
    }
   ],
   "source": [
    "np.random.seed(0)\n",
    "\n",
    "data = np.array([[0, 0], [0, 1], [1, 0], [1, 1]])\n",
    "target = np.array([[0], [1], [0], [1]])\n",
    "\n",
    "weights_0_1 = np.random.rand(2, 3)\n",
    "weights_1_2 = np.random.rand(3, 1)\n",
    "\n",
    "for i in range(10):\n",
    "    layer_1 = data.dot(weights_0_1)\n",
    "    layer_2 = layer_1.dot(weights_1_2)\n",
    "\n",
    "    diff = layer_2 - target\n",
    "    sqdiff = diff * diff\n",
    "    loss = sqdiff.sum(0)\n",
    "    \n",
    "    layer_1_grad = diff.dot(weights_1_2.transpose())\n",
    "    weight_1_2_update = layer_1.transpose().dot(diff)\n",
    "    weight_0_1_update = data.transpose().dot(layer_1_grad)\n",
    "    \n",
    "    weights_1_2 -= weight_1_2_update * 0.1\n",
    "    weights_0_1 -= weight_0_1_update * 0.1\n",
    "    \n",
    "    print(loss[0])"
   ]
  },
  {
   "cell_type": "markdown",
   "id": "de4e1ab9",
   "metadata": {},
   "source": [
    "# SECTION 4: framework"
   ]
  },
  {
   "cell_type": "code",
   "execution_count": 92,
   "id": "c4f3a6a8",
   "metadata": {},
   "outputs": [
    {
     "name": "stdout",
     "output_type": "stream",
     "text": [
      "[0.58128304]\n",
      "[0.48988149]\n",
      "[0.41375111]\n",
      "[0.34489412]\n",
      "[0.28210124]\n",
      "[0.2254484]\n",
      "[0.17538853]\n",
      "[0.1324231]\n",
      "[0.09682769]\n",
      "[0.06849361]\n"
     ]
    }
   ],
   "source": [
    "np.random.seed(0)\n",
    "\n",
    "data = Tensor(np.array([[0, 0], [0, 1], [1, 0], [1, 1]]), autograd=True)\n",
    "target = Tensor(np.array([[0], [1], [0], [1]]), autograd=True)\n",
    "\n",
    "w = list()\n",
    "w.append(Tensor(np.random.rand(2,3), autograd=True))\n",
    "w.append(Tensor(np.random.rand(3,1), autograd=True))\n",
    "\n",
    "for i in range(10):\n",
    "    # Predict\n",
    "    pred = data.mm(w[0]).mm(w[1])\n",
    "    # Compare\n",
    "    loss = ((pred - target)*(pred - target)).sum(0)\n",
    "    # Learn\n",
    "    loss.backward(Tensor(np.ones_like(loss.data)))\n",
    "    for w_ in w:\n",
    "        w_.data -= w_.grad.data * 0.1\n",
    "        w_.grad.data *= 0\n",
    "    print(loss)"
   ]
  },
  {
   "cell_type": "markdown",
   "id": "cc7d09c3",
   "metadata": {},
   "source": [
    "# SECTION 5: SGD"
   ]
  },
  {
   "cell_type": "code",
   "execution_count": 93,
   "id": "0270b9d9",
   "metadata": {},
   "outputs": [],
   "source": [
    "class SGD(object):\n",
    "\n",
    "    \n",
    "    def __init__(self, parameters, alpha=0.1):\n",
    "        self.parameters = parameters\n",
    "        self.alpha = alpha\n",
    "        \n",
    "    \n",
    "    def zero(self):\n",
    "        for p in self.parameters:\n",
    "            p.grad.data *= 0\n",
    "            \n",
    "    \n",
    "    def step(self, zero=True):\n",
    "        for p in self.parameters:\n",
    "            p.data -= p.grad.data * self.alpha\n",
    "            \n",
    "            if zero:\n",
    "                p.grad.data *= 0"
   ]
  },
  {
   "cell_type": "code",
   "execution_count": 94,
   "id": "411cc357",
   "metadata": {},
   "outputs": [
    {
     "name": "stdout",
     "output_type": "stream",
     "text": [
      "[0.58128304]\n",
      "[0.48988149]\n",
      "[0.41375111]\n",
      "[0.34489412]\n",
      "[0.28210124]\n",
      "[0.2254484]\n",
      "[0.17538853]\n",
      "[0.1324231]\n",
      "[0.09682769]\n",
      "[0.06849361]\n"
     ]
    }
   ],
   "source": [
    "np.random.seed(0)\n",
    "\n",
    "data = Tensor(np.array([[0, 0], [0, 1], [1, 0], [1, 1]]), autograd=True)\n",
    "target = Tensor(np.array([[0], [1], [0], [1]]), autograd=True)\n",
    "\n",
    "w = list()\n",
    "w.append(Tensor(np.random.rand(2,3), autograd=True))\n",
    "w.append(Tensor(np.random.rand(3,1), autograd=True))\n",
    "\n",
    "optim = SGD(parameters=w)\n",
    "for i in range(10):\n",
    "    # Predict\n",
    "    pred = data.mm(w[0]).mm(w[1])\n",
    "    # Compare\n",
    "    loss = ((pred - target)*(pred - target)).sum(0)\n",
    "    # Learn\n",
    "    loss.backward(Tensor(np.ones_like(loss.data)))\n",
    "    \n",
    "    optim.step()\n",
    "    \n",
    "    print(loss)"
   ]
  },
  {
   "cell_type": "markdown",
   "id": "6661f343",
   "metadata": {},
   "source": [
    "# SECTION 6: Layers"
   ]
  },
  {
   "cell_type": "code",
   "execution_count": 95,
   "id": "dbf388a5",
   "metadata": {},
   "outputs": [],
   "source": [
    "class Layer(object):\n",
    "    \n",
    "    \n",
    "    def __init__(self):\n",
    "        self.parameters = list()\n",
    "        \n",
    "    \n",
    "    def get_parameters(self):\n",
    "        return self.parameters"
   ]
  },
  {
   "cell_type": "code",
   "execution_count": 99,
   "id": "8c80b7cf",
   "metadata": {},
   "outputs": [],
   "source": [
    "class Linear(Layer):\n",
    "\n",
    "    \n",
    "    def __init__(self, n_inputs, n_outputs):\n",
    "        super().__init__()\n",
    "        W = np.random.randn(n_inputs, n_outputs) * np.sqrt(2.0/n_inputs)\n",
    "        self.weight = Tensor(W, autograd=True)\n",
    "        self.bias = Tensor(np.zeros(n_outputs), autograd=True)\n",
    "        \n",
    "        self.parameters.append(self.weight)\n",
    "        self.parameters.append(self.bias)\n",
    "        \n",
    "        \n",
    "    def forward(self, input):\n",
    "        return input.mm(self.weight) + self.bias.expand(0, len(input.data))"
   ]
  },
  {
   "cell_type": "code",
   "execution_count": 100,
   "id": "8530cb78",
   "metadata": {},
   "outputs": [],
   "source": [
    "class Sequential(Layer):\n",
    "    \n",
    "    \n",
    "    def __init__(self, layers=list()):\n",
    "        super().__init__()\n",
    "        self.layers = layers\n",
    "        \n",
    "        \n",
    "    def add(self, layer):\n",
    "        self.layers.append(layer)\n",
    "        \n",
    "        \n",
    "    def forward(self, input):\n",
    "        for layer in self.layers:\n",
    "            input = layer.forward(input)\n",
    "        return input\n",
    "    \n",
    "    \n",
    "    def get_parameters(self):\n",
    "        params = list()\n",
    "        for l in self.layers:\n",
    "            params += l.get_parameters()\n",
    "        return params"
   ]
  },
  {
   "cell_type": "code",
   "execution_count": 101,
   "id": "dd8fc1bd",
   "metadata": {},
   "outputs": [
    {
     "name": "stdout",
     "output_type": "stream",
     "text": [
      "[2.33428272]\n",
      "[0.06743796]\n",
      "[0.0521849]\n",
      "[0.04079507]\n",
      "[0.03184365]\n",
      "[0.02479336]\n",
      "[0.01925443]\n",
      "[0.01491699]\n",
      "[0.01153118]\n",
      "[0.00889602]\n"
     ]
    }
   ],
   "source": [
    "np.random.seed(0)\n",
    "\n",
    "data = Tensor(np.array([[0, 0], [0, 1], [1, 0], [1, 1]]), autograd=True)\n",
    "target = Tensor(np.array([[0], [1], [0], [1]]), autograd=True)\n",
    "model = Sequential([Linear(2,3), Linear(3, 1)])\n",
    "optim = SGD(parameters=model.get_parameters(), alpha=0.05)\n",
    "for i in range(10):\n",
    "    pred = model.forward(data)\n",
    "    loss = ((pred - target)*(pred - target)).sum(0)\n",
    "    loss.backward(Tensor(np.ones_like(loss.data)))\n",
    "    optim.step()\n",
    "    \n",
    "    print(loss)"
   ]
  },
  {
   "cell_type": "markdown",
   "id": "8f9e491b",
   "metadata": {},
   "source": [
    "# SECTION 7: error layers"
   ]
  },
  {
   "cell_type": "code",
   "execution_count": 102,
   "id": "4001961d",
   "metadata": {},
   "outputs": [],
   "source": [
    "class MSELoss(Layer):\n",
    "    \n",
    "    \n",
    "    def __init(self):\n",
    "        super().__init__()\n",
    "        \n",
    "    \n",
    "    def forward(self, pred, target):\n",
    "        return ((pred - target)*(pred - target)).sum(0)"
   ]
  },
  {
   "cell_type": "code",
   "execution_count": 103,
   "id": "dd9af762",
   "metadata": {},
   "outputs": [
    {
     "name": "stdout",
     "output_type": "stream",
     "text": [
      "[2.33428272]\n",
      "[0.06743796]\n",
      "[0.0521849]\n",
      "[0.04079507]\n",
      "[0.03184365]\n",
      "[0.02479336]\n",
      "[0.01925443]\n",
      "[0.01491699]\n",
      "[0.01153118]\n",
      "[0.00889602]\n"
     ]
    }
   ],
   "source": [
    "np.random.seed(0)\n",
    "\n",
    "data = Tensor(np.array([[0, 0], [0, 1], [1, 0], [1, 1]]), autograd=True)\n",
    "target = Tensor(np.array([[0], [1], [0], [1]]), autograd=True)\n",
    "model = Sequential([Linear(2,3), Linear(3, 1)])\n",
    "criterion = MSELoss()\n",
    "optim = SGD(parameters=model.get_parameters(), alpha=0.05)\n",
    "for i in range(10):\n",
    "    pred = model.forward(data)\n",
    "    loss = criterion.forward(pred, target)\n",
    "    loss.backward(Tensor(np.ones_like(loss.data)))\n",
    "    optim.step()\n",
    "    \n",
    "    print(loss)"
   ]
  },
  {
   "cell_type": "markdown",
   "id": "5ed6e638",
   "metadata": {},
   "source": [
    "# SECTION 8: activate func"
   ]
  },
  {
   "cell_type": "code",
   "execution_count": 142,
   "id": "f11b2b80",
   "metadata": {},
   "outputs": [],
   "source": [
    "class Tanh(Layer):\n",
    "    \n",
    "    \n",
    "    def __init__(self):\n",
    "        super().__init__()\n",
    "        \n",
    "        \n",
    "    def forward(self, input):\n",
    "        return input.tanh()"
   ]
  },
  {
   "cell_type": "code",
   "execution_count": 111,
   "id": "2bdad924",
   "metadata": {},
   "outputs": [],
   "source": [
    "class Sigmoid(Layer):\n",
    "    \n",
    "    \n",
    "    def __init__(self):\n",
    "        super().__init__()\n",
    "        \n",
    "    \n",
    "    def forward(self, input):\n",
    "        return input.sigmoid()"
   ]
  },
  {
   "cell_type": "code",
   "execution_count": 143,
   "id": "2effcb1d",
   "metadata": {},
   "outputs": [
    {
     "name": "stdout",
     "output_type": "stream",
     "text": [
      "[1.06372865]\n",
      "[0.75148144]\n",
      "[0.57384259]\n",
      "[0.39574294]\n",
      "[0.2482279]\n",
      "[0.15515294]\n",
      "[0.10423398]\n",
      "[0.07571169]\n",
      "[0.05837623]\n",
      "[0.04700013]\n"
     ]
    }
   ],
   "source": [
    "np.random.seed(0)\n",
    "\n",
    "data = Tensor(np.array([[0, 0], [0, 1], [1, 0], [1, 1]]), autograd=True)\n",
    "target = Tensor(np.array([[0], [1], [0], [1]]), autograd=True)\n",
    "model = Sequential([Linear(2,3), Tanh(), Linear(3, 1), Sigmoid()])\n",
    "criterion = MSELoss()\n",
    "optim = SGD(parameters=model.get_parameters(), alpha=1)\n",
    "for i in range(10):\n",
    "    pred = model.forward(data)\n",
    "    loss = criterion.forward(pred, target)\n",
    "    loss.backward(Tensor(np.ones_like(loss.data)))\n",
    "    optim.step()\n",
    "    \n",
    "    print(loss)"
   ]
  },
  {
   "cell_type": "markdown",
   "id": "61437b8c",
   "metadata": {},
   "source": [
    "# SECTION 9: Vector layer"
   ]
  },
  {
   "cell_type": "code",
   "execution_count": 137,
   "id": "c79e5e3a",
   "metadata": {},
   "outputs": [],
   "source": [
    "class Embedding(Layer):\n",
    "    \n",
    "    \n",
    "    def __init__(self, vocab_size, dim):\n",
    "        super().__init__()\n",
    "        \n",
    "        self.vocab_size = vocab_size\n",
    "        self.dim = dim\n",
    "        \n",
    "        weight = (np.random.rand(vocab_size, dim) - 0.5) / dim\n",
    "        self.weight = Tensor(weight, autograd=True)\n",
    "        \n",
    "        self.parameters.append(self.weight)\n",
    "        \n",
    "    \n",
    "    def forward(self, input):\n",
    "        return self.weight.index_select(input)"
   ]
  },
  {
   "cell_type": "code",
   "execution_count": 138,
   "id": "27ff1376",
   "metadata": {},
   "outputs": [
    {
     "name": "stdout",
     "output_type": "stream",
     "text": [
      "[0.940077]\n",
      "[0.82715916]\n",
      "[0.71236228]\n",
      "[0.59177034]\n",
      "[0.47262476]\n",
      "[0.36654053]\n",
      "[0.28122701]\n",
      "[0.21729468]\n",
      "[0.17092777]\n",
      "[0.13743206]\n"
     ]
    }
   ],
   "source": [
    "data = Tensor(np.array([1, 2, 3, 4]), autograd=True)\n",
    "target = Tensor(np.array([[0], [1], [0], [1]]), autograd=True)\n",
    "embed = Embedding(5, 3)\n",
    "model = Sequential([embed, Tahn(), Linear(3, 1), Sigmoid()])\n",
    "criterion = MSELoss()\n",
    "optim = SGD(parameters=model.get_parameters(), alpha=0.5)\n",
    "for i in range(10):\n",
    "    pred = model.forward(data)\n",
    "    loss = criterion.forward(pred, target)\n",
    "    loss.backward(Tensor(np.ones_like(loss.data)))\n",
    "    optim.step()\n",
    "    \n",
    "    print(loss)"
   ]
  },
  {
   "cell_type": "markdown",
   "id": "1257649e",
   "metadata": {},
   "source": [
    "# SECTION 10: cross entropy"
   ]
  },
  {
   "cell_type": "code",
   "execution_count": 139,
   "id": "f9648efb",
   "metadata": {},
   "outputs": [],
   "source": [
    "class CrossEntropyLoss(object):\n",
    "    \n",
    "    \n",
    "    def __init__(self):\n",
    "        super().__init__()\n",
    "    \n",
    "    \n",
    "    def forward(self, input, target):\n",
    "        return input.cross_entropy(target)"
   ]
  },
  {
   "cell_type": "code",
   "execution_count": 141,
   "id": "48d00cab",
   "metadata": {},
   "outputs": [
    {
     "name": "stdout",
     "output_type": "stream",
     "text": [
      "1.3885032434928422\n",
      "0.9558181509266037\n",
      "0.6823083585795604\n",
      "0.509525996749312\n",
      "0.39574491472895856\n",
      "0.31752527285348275\n",
      "0.2617222861964217\n",
      "0.2206128392395422\n",
      "0.18946427334830074\n",
      "0.16527389263866668\n"
     ]
    }
   ],
   "source": [
    "np.random.seed(0)\n",
    "\n",
    "data = Tensor(np.array([1, 2, 1, 2]), autograd=True)\n",
    "target = Tensor(np.array([0, 1, 0, 1]), autograd=True)\n",
    "model = Sequential([Embedding(3, 3), Tahn(), Linear(3, 4)])\n",
    "criterion = CrossEntropyLoss()\n",
    "optim = SGD(parameters=model.get_parameters(), alpha=0.1)\n",
    "for i in range(10):\n",
    "    pred = model.forward(data)\n",
    "    loss = criterion.forward(pred, target)\n",
    "    loss.backward(Tensor(np.ones_like(loss.data)))\n",
    "    optim.step()\n",
    "    \n",
    "    print(loss)"
   ]
  },
  {
   "cell_type": "markdown",
   "id": "93f0b5ea",
   "metadata": {},
   "source": [
    "# SECTION 11: RNN"
   ]
  },
  {
   "cell_type": "code",
   "execution_count": 145,
   "id": "c95e15e9",
   "metadata": {},
   "outputs": [],
   "source": [
    "class RNNCell(Layer):\n",
    "    \n",
    "    \n",
    "    def __init__(self, n_inputs, n_hidden, n_output, activation='sigmoid'):\n",
    "        super().__init__()\n",
    "        \n",
    "        self.n_inputs = n_inputs\n",
    "        self.n_hidden = n_hidden\n",
    "        self.n_output = n_output\n",
    "        \n",
    "        if activation == 'sigmoid':\n",
    "            self.activation = Sigmoid()\n",
    "        elif activation == 'tanh':\n",
    "            self.activation = Tanh()\n",
    "        else:\n",
    "            raise Exception('unknown non-linear function')\n",
    "        \n",
    "        self.w_ih = Linear(n_inputs, n_hidden)\n",
    "        self.w_hh = Linear(n_hidden, n_hidden)\n",
    "        self.w_ho = Linear(n_hidden, n_output)\n",
    "        \n",
    "        self.parameters += self.w_ih.get_parameters()\n",
    "        self.parameters += self.w_hh.get_parameters()\n",
    "        self.parameters += self.w_ho.get_parameters()\n",
    "        \n",
    "        \n",
    "    def forward(self, input, hidden):\n",
    "        from_prev_hidden = self.w_hh.forward(hidden)\n",
    "        combined = self.w_ih.forward(input) + from_prev_hidden\n",
    "        new_hidden = self.activation.forward(combined)\n",
    "        output = self.w_ho.forward(new_hidden)\n",
    "        return output, new_hidden\n",
    "    \n",
    "    \n",
    "    def init_hidden(self, batch_size=1):\n",
    "        return Tensor(np.zeros((batch_size, self.n_hidden)), autograd=True)"
   ]
  },
  {
   "cell_type": "code",
   "execution_count": 155,
   "id": "a8b981e7",
   "metadata": {},
   "outputs": [],
   "source": [
    "import sys,random,math\n",
    "from collections import Counter\n",
    "\n",
    "\n",
    "def words2indices(sentence):\n",
    "    return [word2index[word] for word in sentence]\n",
    "\n",
    "\n",
    "with open('../part12/tasksv11/en/qa1_single-supporting-fact_train.txt','r') as f:\n",
    "    raw = f.readlines()\n",
    "\n",
    "tokens = [line.lower().replace(\"\\n\",\"\").split(\" \")[1:] for line in raw[0:1000]]\n",
    "new_tokens = [(['-'] * (6 - len(line)) + line) for line in tokens]\n",
    "tokens = new_tokens\n",
    "\n",
    "vocab = list({word for sent in tokens for word in sent})\n",
    "word2index = {word:i for i,word in enumerate(vocab)}\n",
    "\n",
    "indices = [[word2index[w] for w in line] for line in tokens]\n",
    "data = np.array(indices)"
   ]
  },
  {
   "cell_type": "code",
   "execution_count": 157,
   "id": "ae44fa40",
   "metadata": {},
   "outputs": [
    {
     "data": {
      "text/plain": [
       "array([[42, 12, 57, 15, 53,  2],\n",
       "       [42, 80, 61, 15, 53, 58],\n",
       "       [42, 42, 38, 34, 76, 65],\n",
       "       ...,\n",
       "       [42, 26, 61, 15, 53, 47],\n",
       "       [42, 42, 38, 34, 76, 51],\n",
       "       [42, 26, 61, 15, 53, 46]])"
      ]
     },
     "execution_count": 157,
     "metadata": {},
     "output_type": "execute_result"
    }
   ],
   "source": [
    "data"
   ]
  },
  {
   "cell_type": "code",
   "execution_count": 172,
   "id": "edf01772",
   "metadata": {},
   "outputs": [
    {
     "name": "stdout",
     "output_type": "stream",
     "text": [
      "Loss: 0.48676869696249386, Correct: 0.03\n",
      "Loss: 0.17432683969742818, Correct: 0.28\n",
      "Loss: 0.15481171248806253, Correct: 0.32\n",
      "Loss: 0.14192064292570747, Correct: 0.36\n",
      "Loss: 0.13772838333569867, Correct: 0.36\n"
     ]
    }
   ],
   "source": [
    "embed = Embedding(vocab_size=len(vocab), dim=16)\n",
    "model = RNNCell(n_inputs=16, n_hidden=16, n_output=len(vocab))\n",
    "criterion = CrossEntropyLoss()\n",
    "params = model.get_parameters() + embed.get_parameters()\n",
    "optim = SGD(parameters=params, alpha=0.05)\n",
    "\n",
    "BATCH_SIZE = 100\n",
    "ITERATIONS = 1000\n",
    "\n",
    "for iter in range(ITERATIONS):\n",
    "    total_loss = 0\n",
    "    hidden = model.init_hidden(batch_size=BATCH_SIZE)\n",
    "    for t in range(5):\n",
    "        input = Tensor(data[0:BATCH_SIZE, t], autograd=True)\n",
    "        rnn_input = embed.forward(input=input)\n",
    "        output, hidden = model.forward(input=rnn_input, hidden=hidden)\n",
    "    \n",
    "    target = Tensor(data[0:BATCH_SIZE, t+1], autograd=True)\n",
    "    loss = criterion.forward(output, target)\n",
    "    loss.backward()\n",
    "    optim.step()\n",
    "    total_loss += loss.data\n",
    "    if iter % 200 == 0:\n",
    "        p_correct = (target.data == np.argmax(output.data, axis=1)).mean()\n",
    "        print_loss = total_loss / (len(data) / BATCH_SIZE)\n",
    "        print(\"Loss: {}, Correct: {}\".format(print_loss, p_correct))"
   ]
  },
  {
   "cell_type": "code",
   "execution_count": 173,
   "id": "d70fa9fd",
   "metadata": {},
   "outputs": [
    {
     "name": "stdout",
     "output_type": "stream",
     "text": [
      "Context: - mary moved to the \n",
      "Pred: office.\n"
     ]
    }
   ],
   "source": [
    "BATCH_SIZE = 1\n",
    "hidden = model.init_hidden(batch_size=BATCH_SIZE)\n",
    "for t in range(5):\n",
    "    input = Tensor(data[0:BATCH_SIZE, t], autograd=True)\n",
    "    rnn_input = embed.forward(input=input)\n",
    "    output, hidden = model.forward(input=rnn_input, hidden=hidden)\n",
    "target = Tensor(data[0:BATCH_SIZE, t+1], autograd=True)\n",
    "loss = criterion.forward(output, target)\n",
    "ctx = ''\n",
    "for idx in data[0:BATCH_SIZE][0][0:-1]:\n",
    "    ctx += vocab[idx] + ' '\n",
    "print(\"Context:\", ctx)\n",
    "print(\"Pred:\", vocab[output.data.argmax()])"
   ]
  },
  {
   "cell_type": "code",
   "execution_count": null,
   "id": "70c13c75",
   "metadata": {},
   "outputs": [],
   "source": []
  }
 ],
 "metadata": {
  "kernelspec": {
   "display_name": "Python 3",
   "language": "python",
   "name": "python3"
  },
  "language_info": {
   "codemirror_mode": {
    "name": "ipython",
    "version": 3
   },
   "file_extension": ".py",
   "mimetype": "text/x-python",
   "name": "python",
   "nbconvert_exporter": "python",
   "pygments_lexer": "ipython3",
   "version": "3.8.8"
  }
 },
 "nbformat": 4,
 "nbformat_minor": 5
}
